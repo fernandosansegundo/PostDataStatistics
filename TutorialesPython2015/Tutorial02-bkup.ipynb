{
 "cells": [
  {
   "cell_type": "markdown",
   "metadata": {
    "toc": "true"
   },
   "source": []
  },
  {
   "cell_type": "markdown",
   "metadata": {},
   "source": [
    "## [PostData](http://www.postdata-statistics.com) \n",
    "\n",
    "## Curso de Introducción a la Estadística\n",
    "\n",
    "\n",
    "# Tutorial 2. Estadística descriptiva con Python."
   ]
  },
  {
   "cell_type": "markdown",
   "metadata": {},
   "source": [
    "## 1. Primeros pasos: Python como una calculadora"
   ]
  },
  {
   "cell_type": "markdown",
   "metadata": {},
   "source": [
    "Para empezar a ganar algo de confianza con Python y con la interfaz que vamos a utilizar empezaremos utilizando Python como una calculadora. Para eso, empieza tecleando estas operaciones. Para ver el resultado debes situar el cursos del ratón en la línea correspondiente de este documento y pulsar a la vez las teclas de mayúsculas y Enter. "
   ]
  },
  {
   "cell_type": "code",
   "execution_count": null,
   "metadata": {
    "collapsed": false
   },
   "outputs": [],
   "source": [
    "3 * 2"
   ]
  },
  {
   "cell_type": "markdown",
   "metadata": {},
   "source": [
    "Las potencias, como $3^2$, se expresan en Python con dos asteriscos."
   ]
  },
  {
   "cell_type": "code",
   "execution_count": null,
   "metadata": {
    "collapsed": true
   },
   "outputs": [],
   "source": [
    "3**2"
   ]
  },
  {
   "cell_type": "markdown",
   "metadata": {},
   "source": [
    "### Raíces cuadradas. Importando funciones de un módulo."
   ]
  },
  {
   "cell_type": "markdown",
   "metadata": {},
   "source": [
    "Para calcular una raíz cuadrada podemos, desde luego, hacer algo como\n",
    "$$\\sqrt{9} = 9^{1/2}$$"
   ]
  },
  {
   "cell_type": "code",
   "execution_count": null,
   "metadata": {
    "collapsed": false
   },
   "outputs": [],
   "source": [
    "9**0.5"
   ]
  },
  {
   "cell_type": "markdown",
   "metadata": {},
   "source": [
    "Pero también podemos usar nuestra primera función de Python, la función `sqrt` (del inglés *square root*). Para usarla, como sucede con las otras funciones que veremos, el primer paso es *importarla* desde el módulo `math`. Puedes pensar en el módulo como una colección de funciones empaquetadas todas juntas, y normalmente dedicadas a tareas relacionadas entre sí. La forma de importar la función `sqrt` de ese módulo es esta:"
   ]
  },
  {
   "cell_type": "code",
   "execution_count": null,
   "metadata": {
    "collapsed": true
   },
   "outputs": [],
   "source": [
    "from math import sqrt"
   ]
  },
  {
   "cell_type": "markdown",
   "metadata": {},
   "source": [
    "Y ahora ya podemos usarla:"
   ]
  },
  {
   "cell_type": "code",
   "execution_count": null,
   "metadata": {
    "collapsed": false
   },
   "outputs": [],
   "source": [
    "sqrt(9)"
   ]
  },
  {
   "cell_type": "markdown",
   "metadata": {},
   "source": [
    "El resultado es, desde luego, el mismo que antes. \n",
    "\n",
    "#### Funciones trigonométricas, exponenciales y logaritmos.\n",
    "\n",
    "El verdadero potencial de `math` queda de manifiesto cuando empezamos a pensar en funciones más complicadas, como las funciones trigonométricas. Por ejemplo, para usar las funciones seno (en inglés *sin*), coseno y tangente las importamos todas de `math` con un único comando:"
   ]
  },
  {
   "cell_type": "code",
   "execution_count": null,
   "metadata": {
    "collapsed": true
   },
   "outputs": [],
   "source": [
    "from math import sin, cos, tan"
   ]
  },
  {
   "cell_type": "markdown",
   "metadata": {},
   "source": [
    "Sabemos que $\\sin(\\pi)=0$ y que $\\pi\\approx 3.141592$. Así que podemos hacer un primer ensayo con la función seno así:"
   ]
  },
  {
   "cell_type": "code",
   "execution_count": null,
   "metadata": {
    "collapsed": false
   },
   "outputs": [],
   "source": [
    "sin(3.141592)"
   ]
  },
  {
   "cell_type": "markdown",
   "metadata": {
    "collapsed": true
   },
   "source": [
    "El resultado aparece expresado en la notación exponencial, típica de Python y de muchos otros lenguajes computacionales. La letra `e` que aparece aquí procede de exponente. Y en realidad la respuesta de Python es equivalente a \n",
    "$$6.535897930762419\\cdot 10^{-07}$$\n",
    "Es decir, aproximadamente $0.0000006536$, un número bastante próximo a $0$ como cabía esperar, dada la aproximación a $\\pi$ que hemos usado. El módulo `math` de Python incluye una aproximación a $\\pi$ bastante más precisa que podemos importar como hemos hecho con las otras funciones:"
   ]
  },
  {
   "cell_type": "code",
   "execution_count": null,
   "metadata": {
    "collapsed": true
   },
   "outputs": [],
   "source": [
    "from math import pi"
   ]
  },
  {
   "cell_type": "markdown",
   "metadata": {},
   "source": [
    "Para ver el valor podemos escribir simplemente el nombre:"
   ]
  },
  {
   "cell_type": "code",
   "execution_count": null,
   "metadata": {
    "collapsed": false
   },
   "outputs": [],
   "source": [
    "pi"
   ]
  },
  {
   "cell_type": "code",
   "execution_count": null,
   "metadata": {
    "collapsed": false
   },
   "outputs": [],
   "source": [
    "print(\"{0:.40f}\".format(pi))"
   ]
  },
  {
   "cell_type": "markdown",
   "metadata": {},
   "source": [
    "Y ahora podemos comprobar que esa aproximación produce un resultado bastante más próximo a cero que el anterior."
   ]
  },
  {
   "cell_type": "code",
   "execution_count": null,
   "metadata": {
    "collapsed": false
   },
   "outputs": [],
   "source": [
    "sin(pi)"
   ]
  },
  {
   "cell_type": "markdown",
   "metadata": {},
   "source": [
    "De todas formas, no queremos dejar de mencionar que las aproximaciones de $\\pi$ que usa Python, como las de muchos otros lenguajes de programación, no son correctas más allá de las primeras 15 o a lo sumo 20 cifras decimales. Si se necesita más precisión (lo cual raramente sucede) se pueden usar programas especializados para este tipo de cálculos. Puesto que más adelante en estos tutoriales vamos a usar [Wolfram Alpha](http://www.wolframalpha.com/) para otras tareas, si quieres puedes ir echando un vistazo a este enlace:\n",
    "[http://www.wolframalpha.com/input/?i=pi](http://www.wolframalpha.com/input/?i=pi)\n",
    "\n",
    "El módulo `math` también contiene la **función exponencial**  `exp`. Por ejemplo, para calcular \n",
    "\n",
    "$$e^3$$\n",
    "\n",
    "en Python empezaríamos por importar la función (recuerda que basta con hacer esto una vez por sesión de trabajo o por programa):"
   ]
  },
  {
   "cell_type": "code",
   "execution_count": null,
   "metadata": {
    "collapsed": true
   },
   "outputs": [],
   "source": [
    "from math import exp"
   ]
  },
  {
   "cell_type": "markdown",
   "metadata": {},
   "source": [
    "y ahora haríamos "
   ]
  },
  {
   "cell_type": "code",
   "execution_count": null,
   "metadata": {
    "collapsed": false
   },
   "outputs": [],
   "source": [
    "exp(3)"
   ]
  },
  {
   "cell_type": "markdown",
   "metadata": {},
   "source": [
    "De la misma forma, la función logaritmo neperiano (o logaritmo natural, de base $e$) es la función `log` del módulo `math`. "
   ]
  },
  {
   "cell_type": "code",
   "execution_count": null,
   "metadata": {
    "collapsed": false
   },
   "outputs": [],
   "source": [
    "from math import log"
   ]
  },
  {
   "cell_type": "markdown",
   "metadata": {},
   "source": [
    "Y ahora poemos usarla para comprobar (dentro de la precisión de las aproximaciones numéricas de Python) que el logaritmo es la inversa de la exponencial."
   ]
  },
  {
   "cell_type": "code",
   "execution_count": null,
   "metadata": {
    "collapsed": false
   },
   "outputs": [],
   "source": [
    "log(exp(5))"
   ]
  },
  {
   "cell_type": "markdown",
   "metadata": {},
   "source": [
    "#### Documentación del módulo `math`\n",
    "\n",
    "En cualquier caso, si deseas ampliar la información sobre estas y otras funciones matemáticas que contiene el módulo `math`, puedes consultar la documentación del módulo en este enlace:\n",
    "\n",
    "[https://docs.python.org/2/library/math.html](https://docs.python.org/2/library/math.html)\n",
    "\n",
    "\n",
    "#### Usando paréntesis para controlar el orden de las operaciones\n",
    "\n",
    "Cuando Python se encuentra con un comando como este:\n",
    "\n",
    "`1 / 3 + 1 / 5`\n",
    "\n",
    "tiene que decidir cómo interpretarlo. Lo más probable es que nosotros, lectores humanos, al ver el código anterior hayamos pensado en que representa la operación:\n",
    "\n",
    "$$\\dfrac{1}{3} + \\dfrac{1}{5}$$\n",
    "\n",
    "Cuyo resultado es $\\frac{8}{15}\\approx 0.533$ Pero también podríamos estar representando esta otra operación:\n",
    "\n",
    "$$\\dfrac{1}{\\left(\\dfrac{3 + 1}{5}\\right)}$$\n",
    "\n",
    "cuyo resultado es $1.25$\n",
    "\n",
    "Para evitar ese tipo de interpretaciones ambiguas, Python (y cualquier lenguaje de programación) utiliza una serie de *reglas de precedencia* que fijan el orden en que se realizan las operaciones que aparecen en una operación matemática. No queremos entrar en todos los detalles técnicos, que normalmente son innecesarios. Basta con tener una idea general: primero se evalúan de izquierda a derecha las funciones (como `sqrt`), después productos y divisiones y por último sumas y restas. La otra idea fundamental es que, en caso de duda, siempre puedes (y a menudo, debes) usar paréntesis para despejar la posible ambigüedad. Por ejemplo, estas dos expresiones:"
   ]
  },
  {
   "cell_type": "code",
   "execution_count": null,
   "metadata": {
    "collapsed": false
   },
   "outputs": [],
   "source": [
    "(1/3) + (1/5)"
   ]
  },
  {
   "cell_type": "code",
   "execution_count": null,
   "metadata": {
    "collapsed": false
   },
   "outputs": [],
   "source": [
    "1/((3 + 1)/5)"
   ]
  },
  {
   "cell_type": "markdown",
   "metadata": {},
   "source": [
    "contienen los mismos números y operaciones en el mismo orden (leídos de izquierda a derecha), pero mediante el uso de paréntesis conseguimos que Python las interprete de forma distinta."
   ]
  },
  {
   "cell_type": "markdown",
   "metadata": {},
   "source": [
    "### Ejercicio 1."
   ]
  },
  {
   "cell_type": "markdown",
   "metadata": {},
   "source": [
    "**Nota preliminar:** Abre un notebook de IPython diferente de este (en el menú `File` $\\to$ `New Notebook` $\\to$ `Python 3`) para trabajar en este ejercicio. En el futuro está será nuestra forma habitual de trabajar en los ejercicios de este y los próximos tutoriales. Al principio te lo recordaremos, pero progresivamente iremos dejando de hacerlo.\n",
    "\n",
    "Trata de adivinar, antes de hacer nada con el ordenador, el resultado que produce cada una de las siguientes operaciones:\n",
    "\n",
    "1.   `2 + 3 * 5`\n",
    "2.   `15 / 3 + 7 * 2`\n",
    "3.   `4 + 2 * 6 * 3 + 1`\n",
    "4.   `12/4/2`"
   ]
  },
  {
   "cell_type": "markdown",
   "metadata": {},
   "source": [
    "### Ejercicio 2."
   ]
  },
  {
   "cell_type": "markdown",
   "metadata": {},
   "source": [
    "Es posible que a la vista de algunas de las operaciones anteriores hayas pensado ''mi calculadora sabe trabajar con fracciones...'' No te preocupes: Python también. Primero calcula a mano el resultado de:\n",
    "$$\\dfrac{3}{4} + \\dfrac{7}{15}$$\n",
    "Y luego prueba a ejecutar estos comandos (recuerda usar otro notebook):"
   ]
  },
  {
   "cell_type": "code",
   "execution_count": null,
   "metadata": {
    "collapsed": true
   },
   "outputs": [],
   "source": [
    "from fractions import Fraction"
   ]
  },
  {
   "cell_type": "code",
   "execution_count": null,
   "metadata": {
    "collapsed": false
   },
   "outputs": [],
   "source": [
    "Fraction(3, 4) + Fraction(7, 15)"
   ]
  },
  {
   "cell_type": "code",
   "execution_count": null,
   "metadata": {
    "collapsed": false
   },
   "outputs": [],
   "source": [
    "Fraction(3, 5)/7"
   ]
  },
  {
   "cell_type": "markdown",
   "metadata": {},
   "source": [
    "Más adelante en estos tutoriales aprenderemos otras formas de trabajar en Python con fracciones o con objetos matemáticos más complicados. "
   ]
  },
  {
   "cell_type": "markdown",
   "metadata": {},
   "source": [
    "## 2. Variables y listas.\n",
    "\n",
    "\n",
    "### Variables en Python.\n",
    "\n",
    "En la sección previa hemos usado Python como una calculadora. Pero, para ir más allá, tenemos que disponer de estructuras de datos. Ese término\n",
    "describe, en Computación, las herramientas que nos permiten almacenar y procesar información. Las estructuras de datos más básicas de Python son las variables y las listas. En esta sección vamos a emepzar el trabajo con esas dos estructuras. En próximos tutoriales nos iremos encontrando con otras estructuras de datos más complicadas.\n",
    "\n",
    "Puedes pensar en una **variable de Python** como si fuera una caja que guarda en su interior un valor. Y además la caja lleva un rótulo o etiqueta que identifica a esa caja en particular. Por ejemplo, para guardar el valor 2 en una variable (caja) llamada `x` hacemos"
   ]
  },
  {
   "cell_type": "code",
   "execution_count": null,
   "metadata": {
    "collapsed": true
   },
   "outputs": [],
   "source": [
    "x = 2"
   ]
  },
  {
   "cell_type": "markdown",
   "metadata": {},
   "source": [
    "Lo que acabamos de hacer es una *asignación*. Decimos que hemos *asignado* el valor 2 a la variable `x`. Para preguntarle a Python por el valor de una variable (piensa en el contenido de la caja) basta con escribir el nombre de esa variable:"
   ]
  },
  {
   "cell_type": "code",
   "execution_count": null,
   "metadata": {
    "collapsed": false
   },
   "outputs": [],
   "source": [
    "x"
   ]
  },
  {
   "cell_type": "markdown",
   "metadata": {},
   "source": [
    "Y una vez almacenado el valor en la variable podemos usarlo en las operaciones de Python como si estuviéramos escribiendo directamente el valor:"
   ]
  },
  {
   "cell_type": "code",
   "execution_count": null,
   "metadata": {
    "collapsed": false
   },
   "outputs": [],
   "source": [
    "x + 3"
   ]
  },
  {
   "cell_type": "code",
   "execution_count": null,
   "metadata": {
    "collapsed": false
   },
   "outputs": [],
   "source": [
    "x**3"
   ]
  },
  {
   "cell_type": "markdown",
   "metadata": {},
   "source": [
    "Hemos llamado `x` a la primera variable que hemos usado. Pero puedes, desde luego, crear otras variables, en las que almacenar valores para hacer operaciones con ellos como en esta serie de instrucciones:"
   ]
  },
  {
   "cell_type": "code",
   "execution_count": null,
   "metadata": {
    "collapsed": false
   },
   "outputs": [],
   "source": [
    "y = 4"
   ]
  },
  {
   "cell_type": "code",
   "execution_count": null,
   "metadata": {
    "collapsed": true
   },
   "outputs": [],
   "source": [
    "z = x + y"
   ]
  },
  {
   "cell_type": "code",
   "execution_count": null,
   "metadata": {
    "collapsed": false
   },
   "outputs": [],
   "source": [
    "z"
   ]
  },
  {
   "cell_type": "markdown",
   "metadata": {},
   "source": [
    "#### Sobrescribiendo variables\n",
    "\n",
    "Antes hemos guardado el valor 2 en la variable `x`. Empecemos por comprobar que ese valor sigue ahí:"
   ]
  },
  {
   "cell_type": "code",
   "execution_count": null,
   "metadata": {
    "collapsed": false
   },
   "outputs": [],
   "source": [
    "x"
   ]
  },
  {
   "cell_type": "markdown",
   "metadata": {},
   "source": [
    "Ahora vamos a ejecutar esta asignación:"
   ]
  },
  {
   "cell_type": "code",
   "execution_count": null,
   "metadata": {
    "collapsed": true
   },
   "outputs": [],
   "source": [
    "x = x + 3"
   ]
  },
  {
   "cell_type": "markdown",
   "metadata": {},
   "source": [
    "Python la interpretará así: tomamos el valor 2 que hay en x, sumamos 3 a ese valor para obtener 5 y entonces guardamos ese valor en la propia variable x. Podemos comprobar que, en efecto, el valor de x es 5:"
   ]
  },
  {
   "cell_type": "code",
   "execution_count": null,
   "metadata": {
    "collapsed": false
   },
   "outputs": [],
   "source": [
    "x"
   ]
  },
  {
   "cell_type": "markdown",
   "metadata": {
    "collapsed": true
   },
   "source": [
    "¿Qué ha sucedido con el valor 2 que antes estaba guardado en x? Pues que **ha desaparecido.** En casos como este no hay forma de recuperar el valor anterior de x, si no hemos tenido la precaución de guardarlo en otra variable.  Se suele decir que hemos sobreescrito el contenido de la variable `x`. Cuando se hace intencionadamente, la sobreescritura simplifica a menudo nuestro trabajo, porque nos permite reutilizar una variable, actualizando su valor a medida que realizamos nuevas operaciones. Pero como acabamos de ver, es también una de las formas más fáciles de hacer desaparecer información que tal vez era valiosa.\n",
    "\n",
    "\n",
    "### Nombres de las variables\n",
    "\n",
    "\n",
    "Aunque hasta ahora hemos usado letras como nombres de las variables, puedes utilizar nombres más descriptivos. Y muchas veces es una buena idea hacerlo. Por ejemplo, puede que hace una semana hayas escrito estas instrucciones para resolver un problema:\n"
   ]
  },
  {
   "cell_type": "code",
   "execution_count": null,
   "metadata": {
    "collapsed": true
   },
   "outputs": [],
   "source": [
    "a = 2\n",
    "b = 3\n",
    "c = a/b"
   ]
  },
  {
   "cell_type": "markdown",
   "metadata": {
    "collapsed": true
   },
   "source": [
    "Pero si las vuelves a ver, pasada una semana, es posible que no recuerdes qué era lo que estabas tratando de conseguir al hacer esto. En cambio, al ver estas instrucciones:"
   ]
  },
  {
   "cell_type": "code",
   "execution_count": null,
   "metadata": {
    "collapsed": false
   },
   "outputs": [],
   "source": [
    "espacio = 2\n",
    "tiempo = 3\n",
    "velocidad = espacio / tiempo"
   ]
  },
  {
   "cell_type": "markdown",
   "metadata": {},
   "source": [
    "es mucho más fácil reconocer el objetivo que persiguen. A lo largo de los tutoriales del curso vamos a insistir muchas veces en la necesidad de que el código esté bien organizado, y esté bien documentado. Un primer paso en esa dirección es tratar de elegir nombres descriptivos para las variables. En R las reglas para los nombres de variables son muy flexibles: esencialmente, que empiecen por una letra y no contengan espacios ni caracteres especiales, como ?, +, paréntesis, etcétera. Pero cuidado con los excesos. Es cierto que puedes usar nombres de variables arbitrariamente largos. Pero si usas como nombre:\n",
    "\n",
    "`Estavariablealmacenaelresultadodelainteresanteoperacionqueacabamosdehacer`\n",
    "\n",
    "\n",
    "tu trabajo resultará ilegible. Como siempre, se necesita un equilibrio, y con la práctica encontrarás el tuyo (consejo zen gratuito del tutorial de hoy). Para empezar, es una buena idea combinar mayúsculas y minúsculas en los nombres de las variables. Si vas a usar una variable para representar la temperatura final de un proceso, el nombre `temperaturafinalproceso` es menos legible y más largo que `tempFinal`. Es mucho más fácil, por otra parte, que te equivoques tecleando el primero de esos nombres."
   ]
  },
  {
   "cell_type": "markdown",
   "metadata": {},
   "source": [
    "## Listas en Python"
   ]
  },
  {
   "cell_type": "markdown",
   "metadata": {
    "collapsed": true
   },
   "source": [
    "En Estadística, lo habitual es trabajar con colecciones o *muestras* de datos. Y para almacenar esas colecciones de datos, la estructura más básica en Python son las listas. En este apartado vamos a empezar a trabaajr con listas, aunque a lo largo del curso aún tendremos ocasión de aprender bastante más sobre el manejo de las listas, porque osn una herramienta fundamental en Python.\n",
    "\n",
    "Para empezar vamos a trabajar con listas que contienen una colección de números, que pueden ser las edades de los alumnos de una clase:\n",
    "```\n",
    "22, 21, 18, 19, 17, 21, 18, 20, 17, 18, 17, 22, 20, 19, 18, 19, 18, 22, 20, 19\n",
    "```\n",
    "En Python una lista de números como esta se construye mediante un comando como este:"
   ]
  },
  {
   "cell_type": "code",
   "execution_count": null,
   "metadata": {
    "collapsed": true
   },
   "outputs": [],
   "source": [
    "edades = [22, 21, 18, 19, 17, 21, 18, 20, 17, 18, 17, 22, 20, 19, 18, 19, 18, 22, 20, 19]\n",
    "print(edades)"
   ]
  },
  {
   "cell_type": "markdown",
   "metadata": {
    "collapsed": true
   },
   "source": [
    "En realidad, en esa expresión hemos hecho dos cosas:\n",
    "\n",
    "+ Hemos *creado* la lista con los datos, en la parte derecha de la expresión:\n",
    "```\n",
    "c(22, 21, 18, 19, 17, 21, 18, 20, 17, 18, 17, 22, 20, 19, 18, 19, 18, 22, 20, 19)\n",
    "```\n",
    "Los datos están separados por comas, y rodeados por corchetes. \n",
    "\n",
    "+ Una vez creada esa lista, la hemos *asignado* a la variable `edades`. Hasta ahora sólo habíamos usado variables para identificar un único valor (un número o una cadena alfanumérica). Pero una variable puede usarse para identificar una lista o, como  veremos más adelante, estructuras mucho más complejas.\n",
    "\n",
    "Las listas de Python "
   ]
  },
  {
   "cell_type": "code",
   "execution_count": null,
   "metadata": {
    "collapsed": true
   },
   "outputs": [],
   "source": []
  },
  {
   "cell_type": "code",
   "execution_count": null,
   "metadata": {
    "collapsed": true
   },
   "outputs": [],
   "source": []
  },
  {
   "cell_type": "code",
   "execution_count": null,
   "metadata": {
    "collapsed": true
   },
   "outputs": [],
   "source": []
  },
  {
   "cell_type": "code",
   "execution_count": null,
   "metadata": {
    "collapsed": true
   },
   "outputs": [],
   "source": []
  },
  {
   "cell_type": "code",
   "execution_count": null,
   "metadata": {
    "collapsed": true
   },
   "outputs": [],
   "source": []
  },
  {
   "cell_type": "code",
   "execution_count": null,
   "metadata": {
    "collapsed": true
   },
   "outputs": [],
   "source": []
  },
  {
   "cell_type": "code",
   "execution_count": null,
   "metadata": {
    "collapsed": true
   },
   "outputs": [],
   "source": []
  },
  {
   "cell_type": "code",
   "execution_count": null,
   "metadata": {
    "collapsed": true
   },
   "outputs": [],
   "source": []
  },
  {
   "cell_type": "code",
   "execution_count": null,
   "metadata": {
    "collapsed": true
   },
   "outputs": [],
   "source": []
  },
  {
   "cell_type": "markdown",
   "metadata": {},
   "source": [
    "## Ficheros csv"
   ]
  },
  {
   "cell_type": "markdown",
   "metadata": {},
   "source": [
    "## Estadística descriptiva de una variable cuantitativa, con datos no agrupados."
   ]
  },
  {
   "cell_type": "markdown",
   "metadata": {},
   "source": [
    "## Ficheros de comandos Python y comentarios"
   ]
  },
  {
   "cell_type": "markdown",
   "metadata": {},
   "source": [
    "## Más operaciones con vectores"
   ]
  },
  {
   "cell_type": "markdown",
   "metadata": {},
   "source": [
    "## Ejercicios adicionales"
   ]
  },
  {
   "cell_type": "code",
   "execution_count": null,
   "metadata": {
    "collapsed": true
   },
   "outputs": [],
   "source": []
  }
 ],
 "metadata": {
  "kernelspec": {
   "display_name": "Python 3",
   "language": "python",
   "name": "python3"
  },
  "language_info": {
   "codemirror_mode": {
    "name": "ipython",
    "version": 3
   },
   "file_extension": ".py",
   "mimetype": "text/x-python",
   "name": "python",
   "nbconvert_exporter": "python",
   "pygments_lexer": "ipython3",
   "version": "3.4.3"
  },
  "latex_envs": {
   "bibliofile": "biblio.bib",
   "cite_by": "apalike",
   "current_citInitial": 1,
   "eqLabelWithNumbers": true,
   "eqNumInitial": 0
  },
  "toc": {
   "toc_cell": true,
   "toc_number_sections": false,
   "toc_threshold": "2",
   "toc_window_display": true
  }
 },
 "nbformat": 4,
 "nbformat_minor": 0
}
