{
 "cells": [
  {
   "cell_type": "markdown",
   "metadata": {},
   "source": [
    "<img width=\"800\" src=\"fig/MalvasiaCabeciblanca-Cabecera.jpg\"/>  \n",
    "[www.postdata-statistics.com](www.postdata-statistics.com)  \n",
    "**Curso de Introducción a la Estadística. Tutorial 2 (versión Python).**"
   ]
  },
  {
   "cell_type": "markdown",
   "metadata": {},
   "source": [
    "# Primer contacto con Python a través de Jupyter.\n",
    "\n",
    "Este documento es un *cuaderno* de Jupyter (o IPython, que es como se llamaban las versiones previas). Eso significa que es un documento que combina párrafos de texto, como este que estás leyendo, con *bloques de código* en Python, como el que que aparece aquí debajo. Un cuaderno de Jupyter está estructurado en *celdas* (traducimos así el inglés *cells*) que, como hemos dicho, pueden contener texto o código. Cuando pinchas en una celda del cuaderno, esa celda es la *celda activa* y Jupyter lo indica rodeándola con un rectángulo. Prueba a hacer click ahora en esta misma frase para ver como aparece ese rectángulo.\n",
    "\n",
    "**Atención:** si haces click dos veces, verás que la celda cambia de aspecto. No te preocupes, no puedes romper nada importante. Simplemente has accedido al *código fuente* de la celda, lo que te permite hacer modificaciones. Ese código es un lenguaje llamado *markdown*, sobre el que volveremos más adelante, Por el momento lo mejor es que dejes las cosas como estaban. Para conseguirlo, asegúrate de que el cursor está dentro de esta celda y pulsa a la vez las teclas Mayúsculas y Enter.\n",
    "\n",
    "Como hemos dicho, este cuaderno contiene dos tipo de celdas:\n",
    "\n",
    "+ Las **celdas de código** se sistinguen porque van precedidas, a su izquierda, por la palabra `In`. La celda situada debajo de esta es una celda de código, por ejemplo.\n",
    "+ Las **celdas de texto**, como esta, no tienen ningún texto a su izquierda.\n",
    "\n",
    "Los cuadernos de Jupyter son documentos interactivos. Eso significa que puedes ejecutar directamente el código que contienen desde este mismo documento. Para comprobarlo, asegúrate de activar la siguiente celda de código (por ejemplo, haz clic en cualquier lugar de la celda) y pulsa a la vez Mayúsculas + Enter."
   ]
  },
  {
   "cell_type": "code",
   "execution_count": 1,
   "metadata": {
    "collapsed": false
   },
   "outputs": [
    {
     "data": {
      "text/plain": [
       "5"
      ]
     },
     "execution_count": 1,
     "metadata": {},
     "output_type": "execute_result"
    }
   ],
   "source": [
    "2 + 3"
   ]
  },
  {
   "cell_type": "markdown",
   "metadata": {},
   "source": [
    "Si todo ha ido como se espera, habrás visto aparecer el resultado de esa operación debajo de la celda, precedido por la palabra `Out` y el número uno entre corchetes. Esos corchetes y números son la forma en la que Jupyter nos indica el orden en que ejecutamos las celdas de código. Prueba a ejecutar la celda otra vez y verás como ese número aumenta.\n",
    "\n",
    "## Python como calculadora.\n",
    "\n",
    "En la primera celda hemos empezado a usar Python como una calculadora. Aparte de sumas podemos hacer, naturalmente, multiplicaciones y divisiones. Prueba a ejecutar las siguientes celdas: "
   ]
  },
  {
   "cell_type": "code",
   "execution_count": null,
   "metadata": {
    "collapsed": false
   },
   "outputs": [],
   "source": [
    "6 * 5"
   ]
  },
  {
   "cell_type": "code",
   "execution_count": null,
   "metadata": {
    "collapsed": false
   },
   "outputs": [],
   "source": [
    "16 / 5"
   ]
  },
  {
   "cell_type": "markdown",
   "metadata": {},
   "source": [
    "El resultado de la división muestra la forma en la que Python escribe los decimales, con punto separando la parte entera y la parte decimal. Puesto que estamos usando la versión 3 de Python, el resultado de una divsión hecha con / es siempre un número decimal. Prueba la siguiente operación: "
   ]
  },
  {
   "cell_type": "code",
   "execution_count": null,
   "metadata": {
    "collapsed": false
   },
   "outputs": [],
   "source": [
    "16/4\n"
   ]
  },
  {
   "cell_type": "markdown",
   "metadata": {},
   "source": [
    "Si alguna vez tienes que usar la versión 2 de Python descubrirás que allí la división usando / es un poco más complicada. Por el momento, seguiremos adelante sin preocuparnos de esto. \n",
    "\n",
    "Vamos a elevar un número al cubo. En muchos lenguajes de programación las potencias se indican con el símbolo ^ (el acento circunflejo). Pero Python utiliza dos asteriscos: `**`. Prueba a ejecutar esta operación:"
   ]
  },
  {
   "cell_type": "code",
   "execution_count": null,
   "metadata": {
    "collapsed": false
   },
   "outputs": [],
   "source": [
    "3**2"
   ]
  },
  {
   "cell_type": "markdown",
   "metadata": {},
   "source": [
    "## División entera: resto y cociente.\n",
    "\n",
    "En alguna ocasión tendremos necesidad de calcular el cociente y el resto de una división entera. Por ejemplo, para convertir un tiempo en segundos al formato minutos-segundos. En Python 3 el cociente se obtiene con `//` y el resto con `%`. Así, un experimento que dura 475 segundos, expresado en el formato minutos-segundos dura: "
   ]
  },
  {
   "cell_type": "code",
   "execution_count": 538,
   "metadata": {
    "collapsed": false
   },
   "outputs": [
    {
     "data": {
      "text/plain": [
       "7"
      ]
     },
     "execution_count": 538,
     "metadata": {},
     "output_type": "execute_result"
    }
   ],
   "source": [
    "475 // 60"
   ]
  },
  {
   "cell_type": "code",
   "execution_count": 539,
   "metadata": {
    "collapsed": false
   },
   "outputs": [
    {
     "data": {
      "text/plain": [
       "55"
      ]
     },
     "execution_count": 539,
     "metadata": {},
     "output_type": "execute_result"
    }
   ],
   "source": [
    "475 % 60"
   ]
  },
  {
   "cell_type": "markdown",
   "metadata": {
    "variables": {
     "475%60": "55",
     "475//60": "7"
    }
   },
   "source": [
    "Es decir, que el experimento dura 55 minutos y 7 segundos."
   ]
  },
  {
   "cell_type": "markdown",
   "metadata": {},
   "source": [
    "## Algunos detalles de la interfaz de Jupyter.\n",
    "\n",
    "\n",
    "Ahora que ya has visto algunos ejemplos del funcionamiento de un cuaderno de Jupyter y antes de seguir adelante con nuestro trabajo, es preciso detenernos un momento en algunas cuestiones relativas al uso de estos cuadernos, para facilitar tu trabajo en lo que queda de curso. Para empezar con confianza, recuerda lo que te hemos dicho antes: no puedes romper nada demasiado importante. En el peor de los casos, si haces alguna operación que dañe este cuaderno y no sabes cómo deshacerlo, siempre puedes volver a la página del curso en [www.postdata-statistics.com](http://www.postdata-statistics.com), descargar una copia intacta del cuaderno, usarla para remplazar la copia dañada y volver al trabajo.\n",
    "\n",
    "Lo primero que debes entender es que un cuaderno de Jupyter es un documento *vivo*. Nosotros te hemos proporcionado una versión inicial, pero cuando aprendas un poco más podrás modificarlo para añadir tus anotaciones y comentarios, hacer experimentos con el código, etc. Y también, si quieres, podrás empezar a crear tus propios cuadernos de Jupyter.\n",
    "\n",
    "Vamos con algunas **nociones básicas**. Al principio esto parecerá complicado y si en una primera lectura te pierdes, no te preocupes. Déjalo para más adelante y sigue avanzando en el tutorial. Más adelante, cuando vayas ganado experiencia con los cuadernos de Jupyter podrás volver aquí y todo se irá aclarando: \n",
    "\n",
    "+ Recuerda que hay dos tipos de celdas: de texto y de código.\n",
    "+ Una celda, sea cual sea su tipo, puede estar en *modo edición* o en *modo comando*. Lo normal, al abrir un cuaderno de Jupyter es que todas las celdas estén en modo comando. Ese modo sirve para visualizar el cuaderno, pero también para manipular las celdas: borrarlas, cambiarlas de posición, añadir celdas nuevas, etc. \n",
    "+ Para pasar al modo edición puedes hacer doble clic en la celda que deseas editar. También puedes hacer que esa celda sea la celda activa (con un clic) y pulsar *Enter*. \n",
    "+ Para salir del modo edición y volver al modo comando pulsa *Esc*. Pero es importante entender que con eso no se ejecuta el contenido de la celda, ni se formatea la salida en el caso de una celda de texto. Si eso es lo que deseas, asegúrate de que esa es la celda activa y pulsa a la vez mayúsculas y *Enter*. \n",
    "\n",
    "Como hemos dicho, todo esto te parecerá ahora un embrollo considerable. Pero con un poco de paciencia y un bastante de práctica te acostumbrarás a las pequeñas extravagancias de la interfaz de Jupyter. Nosotros ya casi nos hemos acostumbrado. \n",
    "\n",
    "Hablando un poco más en serio, Jupyter es la mejor herramienta disponible, en este momento, para obtener este tipo de documentos que combinan texto y código. No es, ni mucho menos perfecta, y en otros lenguajes de programación hay ideas similares que nos gustan mucho más (como los documentos Rmarkdown para el lenguaje R). Pero en el mundo de Python, Jupyter es todavía la mejor opción: si te pudiéramos ofrecer algo mejor ya lo estaríamos haciendo.\n",
    "\n",
    "Puedes explorar los menús de Jupyter para conocer algunas de las opciones disponibles. Por ejemplo el menú *Edit* te permite, en modo edición, hacer algunas de esas operaciones que hemos mencionado: mover celdas o borrarlas, insertar celdas nuevas, etc. Algunas de esas operaciones se pueden deshacer en caso de error, pero en cualquier caso sé prudente antes de modificar celdas si no te has asegurado de que dispones de una copia. Insistimos: los cuadernos origianles de los tutoriales siempre se pueden descargar otra vez desde la página del curso. Pero las posibles modificaciones que hayas introducido tú no están a salvo hasta que hagas una copia (menú *File* $\\to$ *Make a Copy*) y guardes regularmente tu trabajo (menú *File* $\\to$ *Save and Checkpoint*).\n",
    "\n",
    "Por su lado el menú *Cell* te permite ejecutar una o varias celdas del cuaderno y cambiar el tipo de una celda, de texto a código o viceversa.   Por último el menú Help contiene por supuesto enlaces a documentación de ayuda (siempre en inglés), pero también una colección de *atajos de teclado* (keyboard shortcuts) que facilitan mucho el trabajo con Jupyter. Hay atajos para ambos modos, edición y comando, y al principio es fácil que te equivoques y uses un atajo de modo edición cuando en realidad estás en modo comando o al contrario. De nuevo, paciencia y práctica, que es como hemos aprendido todos. Para que puedas practicar te dejamos un ejercicio:"
   ]
  },
  {
   "cell_type": "markdown",
   "metadata": {},
   "source": [
    "** Ejercicio:** \n",
    "\n",
    "Ejecuta con atención cada uno de estos pasos:\n",
    "\n",
    "+ Asegúrate de que está celda está activa (haz clic en ella) y de que estás en modo comando (pulsa mayúsculas + Enter). Vuelve a hacer clic en la celda si es preciso para activarla y asugúrate de que ves un rectángulo rodeando esta celda. \n",
    "+ Ahora que nos hemos asegurado del estado en el que se encuentra Jupyter, pulsa la tecla B (del inglés *below*, debajo) para añadir una celda nueva debajo de esta (si hubieras pulsado A, de *above* -arriba-, la celda nueva se añadiría encima de la celda activa). También podrías insertar esa celda usando el menú *Edit*, claro. \n",
    "\n",
    "+ Haz clic en la zona de código (fondo gris) de la nueva celda para convertirla en la celda activa. ¿De qué tipo es? AL hacer clic en la zona de código de la celda habrás pasado automáticamente al modo edición. Puedes reconocerlo porque el cursor parpadea dentro de esa zona de código sombreada. \n",
    "\n",
    "+ Escribe `2 + 3` dentro de la zona de código y después pulsa mayúsculas + *Enter* a la vez para ejecutarlo. Debería aparecer 5 como resultado debajo de la celda.\n",
    "\n",
    "+ Vuelve a hacer clic en la zona de código de la celda que contiene `2 + 3` y  pulsa *Esc* para pasar al modo comando (el cursor deja de parpadear). Ahora pulsa M. La celda ha pasado a ser una celda de texto y el resultado desaparece. Si ahora pulsas pulsa mayúsculas + *Enter* la celda pasa a modo comando y el texto 2 + 3 aparece como texto normal, sobre fondo blanco. \n",
    "\n",
    "\n",
    "+ De nuevo haz clic en esa celda para activarla. Si pulsas Y (siempre en modo comando) volverá a ser de código. Estos cambios entre texto y código afectan al formato del contenido pero son reversibles. \n",
    "\n",
    "+ Para terminar el ejercicio asegúrate de estar en modo comando y con esa celda nueva como celda activa y pulsa D dos veces para borrar la celda. ¡Cuidado, no vayas a borrar otra celda por error! \n",
    "\n",
    " \n",
    "<!--\n",
    "<font color=\"red\">\n",
    "**PENDIENTE**\n",
    "</font>\n",
    "-->"
   ]
  },
  {
   "cell_type": "markdown",
   "metadata": {},
   "source": [
    "## Funciones matemáticas y módulos de Python.\n",
    "\n",
    "Aparte de las cuatro operaciones aritméticas básicas, las calculadoras científicas de mano incluyen funciones como la raíz cuadrada, logaritmos, funciones trigonométricas, etc. En Python, por supuesto, también podemos calcular esas funciones. Pero antes de hacerlo tenemos que aprender algo sobre el sistema de módulos de Python. \n",
    "\n",
    "Como todos los lenguajes de programación de *propósito general*, Python se puede utilizar para una gran cantidad de tareas distintas, cada una con sus necesidades específicas. Los programadores de Python han desarrollado muchísimas herramientas orientadas al cálculo científico, pero también a operaciones financieras, gestión de servidores web y sistemas, trabajo con bases de datos, etc. Si cada vez que usamos Python tuviéramos que instalar todo ese código estaríamos desperdiciando una enorme cantidad de recursos. Al fin y al cabo el usuario que quiere utilizar Python para Genómica no necesitará, seguramente, las funciones financieras más especializadas de Python. Por eso, como sucede en otros lenguajes, Python está organizado en una estructura modular, de manera que en cada momento podemos disponer de aquellas partes del código de Python que necesitamos. Concretamente, el código se organiza en **módulos** que puedes imaginar como cajas de herramientas y cuando queremos utilizar una herramienta concreta debemos indicárselo a Python pidiéndole que *importe* el módulo que contiene esa herramienta.   \n",
    "\n",
    "Veamos un ejemplo. Muchas funciones matemáticas, como la raíz cuadrada y otras que mencionábamos antes, están guardadas en un módulo (caja de herramientas) llamado `math`. La función raíz cuadrada se llama `sqrt` (del inglés *square root*).  Para importar la función `sqrt` del módulo `math` en Python usamos este comando:"
   ]
  },
  {
   "cell_type": "code",
   "execution_count": 12,
   "metadata": {
    "collapsed": true
   },
   "outputs": [],
   "source": [
    "from math import sqrt"
   ]
  },
  {
   "cell_type": "markdown",
   "metadata": {},
   "source": [
    "Esta frase es nuestra forma de decir, en lenguaje Python, *\"saca la herramienta `sqrt` de la caja `math`\"*. Una vez hecho esto, podemos usar la herramienta para, por ejemplo, calcular la ráiz cuadrada de 9 o cualquier otra. Compruébalo ejecutando estas dos operaciones:"
   ]
  },
  {
   "cell_type": "code",
   "execution_count": 2,
   "metadata": {
    "collapsed": false
   },
   "outputs": [
    {
     "data": {
      "text/plain": [
       "3.0"
      ]
     },
     "execution_count": 2,
     "metadata": {},
     "output_type": "execute_result"
    }
   ],
   "source": [
    "sqrt(9)"
   ]
  },
  {
   "cell_type": "code",
   "execution_count": 3,
   "metadata": {
    "collapsed": false
   },
   "outputs": [
    {
     "data": {
      "text/plain": [
       "4.123105625617661"
      ]
     },
     "execution_count": 3,
     "metadata": {},
     "output_type": "execute_result"
    }
   ],
   "source": [
    "sqrt(17)"
   ]
  },
  {
   "cell_type": "markdown",
   "metadata": {},
   "source": [
    "Como ves, la función se ejecuta o *invoca* colocando su argumento entre paréntesis. \n",
    "\n",
    "El módulo `math` contiene muchas otras funciones además de la raíz cuadrada. Por ejemplo, las funciones trigonométricas seno, coseno y tangete que se representan, respectivamente mediante `sin`, `cos` y `tan`. Por defecto, esas funciones asumen que los ángulos se miden en radianes. Por su parte, el logaritmo natural (o neperiano) de base $e$ se llama en Python `log` y la exponencial (para calcular $e$ elevado a un número) se llama  `exp`.\n",
    "\n",
    "Pero, además de funciones, a menudo los módulos de Python contienen otro tipo de *objetos*. Por ejemplo, el módulo `math` contiene valores aproximados de las constantes matemáticas $\\pi$ y $e$, entre otras. \n",
    "\n",
    "Recuerda que para usar estas herramientas las debemos empezar por importarlas. Para hacer más cómodo nuestro trabajo, podemos importar varias funciones de una vez:"
   ]
  },
  {
   "cell_type": "code",
   "execution_count": 8,
   "metadata": {
    "collapsed": false
   },
   "outputs": [],
   "source": [
    "from math import sin, cos, tan, log, exp, pi, e"
   ]
  },
  {
   "cell_type": "markdown",
   "metadata": {},
   "source": [
    "Una vez hecho esto podemos empezar a usar las funciones. Por ejemplo, en trigonometría elemental hemos aprendido que:\n",
    "$$\\sin\\left(\\dfrac{\\pi}{4}\\right) = \\dfrac{\\sqrt{2}}{2}\\approx 0.7071$$\n",
    "Vamos a calcular con Python este número de dos formas:  "
   ]
  },
  {
   "cell_type": "code",
   "execution_count": 10,
   "metadata": {
    "collapsed": false
   },
   "outputs": [
    {
     "data": {
      "text/plain": [
       "0.7071067811865475"
      ]
     },
     "execution_count": 10,
     "metadata": {},
     "output_type": "execute_result"
    }
   ],
   "source": [
    "sin(pi/4)"
   ]
  },
  {
   "cell_type": "code",
   "execution_count": 13,
   "metadata": {
    "collapsed": false
   },
   "outputs": [
    {
     "data": {
      "text/plain": [
       "0.7071067811865476"
      ]
     },
     "execution_count": 13,
     "metadata": {},
     "output_type": "execute_result"
    }
   ],
   "source": [
    "sqrt(2)/2"
   ]
  },
  {
   "cell_type": "markdown",
   "metadata": {},
   "source": [
    "¡Fíjate en que las últimas cifras son distintas! Eso nos debe servir de recordatorio de que los cálculos que estamos realizando son *aproximaciones numéricas*, no valores exactos."
   ]
  },
  {
   "cell_type": "markdown",
   "metadata": {},
   "source": [
    "Enseguida vamos a seguir avanzando hacia la Estadística. Pero antes vamos a hacer un ejercicio y, tomando como punto de partida los resultados del ejercicio, nos detendremos un poco en algunos aspectos técnicos relacionados con el módulo `math` y el uso de funciones, aspectos que nos resultarán muy útiles más adelante."
   ]
  },
  {
   "cell_type": "markdown",
   "metadata": {
    "variables": {
     "ejercicio": "5"
    }
   },
   "source": [
    "** Ejercicio:** \n",
    "Calcula los siguientes valores usando Python:\n",
    "\n",
    "$\n",
    "\\begin{array}{l}\n",
    "(a)\\quad 2 + 3\\\\\n",
    "(b)\\quad 15 - 7 \\\\\n",
    "(c)\\quad 4 \\cdot 6\\\\\n",
    "(d)\\quad \\dfrac{13}{5}\\\\\n",
    "(e)\\quad \\mbox{el cociente de $13$ entre $5$}\\\\\n",
    "(f)\\quad 1 / 3 + 1 / 5\\\\\n",
    "(g)\\quad \\sqrt{25}\\\\\n",
    "(h)\\quad \\sqrt{26}\\\\\n",
    "(i)\\quad \\sin(\\pi)\\\\\n",
    "(j)\\quad \\sin(3.14)\\\\\n",
    "(k)\\quad \\mbox{la tangente de }\\pi/4\\\\\n",
    "(l)\\quad \\mbox{el logaritmo de 7}\n",
    "\\end{array}\n",
    "$\n",
    "\n",
    "<hr style=\"background:#FFAAAA; border:0; height:2px\" />"
   ]
  },
  {
   "cell_type": "markdown",
   "metadata": {
    "variables": {
     "sin(pi)": "1.2246467991473532e-16"
    }
   },
   "source": [
    "### Notación científica.\n",
    "\n",
    "El resultado del apartado *(i)* del ejercicio anterior es `1.2246467991473532e-16`.  La notación que se usa en la respuesta es la forma típica de traducir la *notación científica* a los lenguajes de ordenador y calculadoras. El símbolo `1.2246467991473532e-16` representa el número:\n",
    "$$1.2246467991473532\\cdot 10^{-16},$$\n",
    "de manera que el número $-16$, que sigue a la letra `e` en esta representación, es el *exponente* de $10$ (también llamado *orden de magnitud*), mientras que el número $1.2246467991473532$ se denomina a veces *mantisa*. Puedes leer más sobre la notación científica en este artículo de la Wikipedia:\n",
    "\n",
    "[Notación\\_científica](http://es.wikipedia.org/wiki/Notación_científica)\n",
    "\n",
    "En cualquier caso, el exponente $-16$ nos indica que se trata de un número extremadamente pequeño, muy cercano a $0$. Fíjate, en cambio, que si usas $3.14$ como aproximación de $\\pi$, como hemos hecho en el apartado *(j)*, la respuesta, aunque pequeña, es todavía del orden de milésimas."
   ]
  },
  {
   "cell_type": "markdown",
   "metadata": {},
   "source": [
    "### Errores en Python.\n",
    "\n",
    "Al trabajar con Python, como con cualquier otro lenguaje de programacion, la aparición de errores es inevitable. Así que es conveniente saber lo que ocurre cuando le pedimos a Python una operación para la que no tiene respuesta. Por ejemplo, ejecuta el siguiente código:"
   ]
  },
  {
   "cell_type": "code",
   "execution_count": null,
   "metadata": {
    "collapsed": true
   },
   "outputs": [],
   "source": [
    "3 / 0"
   ]
  },
  {
   "cell_type": "markdown",
   "metadata": {},
   "source": [
    "Al hacerlo Python contesta un mensaje de error que contiene una descripción más o menos detallada del tipo de error que se ha producido, en este caso `ZeroDivisionError`, y del punto concreto donde ha ocurrido el error (lo cual será muy útil cuando empecemos a escribir fragmentos de código más largos).\n",
    " \n",
    "Veamos otros ejemplos de errores en el siguiente ejercicio."
   ]
  },
  {
   "cell_type": "markdown",
   "metadata": {
    "variables": {
     "ejercicio": "2"
    }
   },
   "source": [
    "** Ejercicio:** \n",
    "Ejecuta estos comandos de Python, que producirán distintos tipos de errores, y fíjate en esos errores:"
   ]
  },
  {
   "cell_type": "code",
   "execution_count": null,
   "metadata": {
    "collapsed": true
   },
   "outputs": [],
   "source": [
    "log(-1)"
   ]
  },
  {
   "cell_type": "code",
   "execution_count": null,
   "metadata": {
    "collapsed": true
   },
   "outputs": [],
   "source": [
    "4/*3"
   ]
  },
  {
   "cell_type": "code",
   "execution_count": null,
   "metadata": {
    "collapsed": true
   },
   "outputs": [],
   "source": [
    "ln(7)"
   ]
  },
  {
   "cell_type": "markdown",
   "metadata": {},
   "source": [
    "<hr style=\"background:#FFAAAA; border:0; height:2px\" />"
   ]
  },
  {
   "cell_type": "markdown",
   "metadata": {},
   "source": [
    "### Ayuda con Python.\n",
    "\n",
    "¿Cómo se llaman las funciones de Python que calculan el arcotangente o el logaritmo en base 10? La respuesta a esta y a muchas otras preguntas está en Internet, y los buscadores son nuestros mejores aliados. Una expresión popular en los foros de Internet, desde hace años es: *\"Google is your friend\"*. Es decir que, si hacemos la pregunta correcta, a menudo la primera respuesta de un buscador contendrá la información necesaria. \n",
    "\n",
    "En cualquier caso, existen algunos recursos sobre Python que es bueno conocer. El principal de ellos es la página oficial del lenguaje, situada en:\n",
    "\n",
    "[https://www.python.org/](https://www.python.org/)\n",
    "\n",
    "y que contiene la documentación sobre los módulos oficiales con Python, tanto en la versión 2 como la 3. Por ejemplo, el módulo `math`, para la versión 3 de Python, está documentado en:\n",
    "\n",
    "[https://docs.python.org/3/library/math.html](https://docs.python.org/3/library/math.html)\n",
    "\n"
   ]
  },
  {
   "cell_type": "markdown",
   "metadata": {
    "collapsed": true,
    "variables": {
     "ejercicio": "3"
    }
   },
   "source": [
    "** Ejercicio:** \n",
    "Busca la respuesta a la pregunta que hemos dejado pendiente: ¿cómo se llaman las funciones de Python que calculan el arcotangente o el logaritmo en base 10?  \n",
    "<hr style=\"background:#FFAAAA; border:0; height:2px\" />"
   ]
  },
  {
   "cell_type": "markdown",
   "metadata": {},
   "source": [
    "### Más formas de importar funciones.\n",
    "\n",
    "Es posible que te estés preguntando: \"¿si voy a usar muchas funciones matemáticas tengo que importarlas escribiendo uno a uno el nombre de cada una de ellas?\". Para evitar eso, que más adelante resultaría muy incómodo, Python proporciona varias formas alternativas de importar funciones desde un módulo. \n",
    "\n",
    "En primer lugar, podemos decirle a Python que queremos importar *todas* las funciones de un módulo. Por ejemplo, para importar todas las funciones del módulo usaríamos:"
   ]
  },
  {
   "cell_type": "code",
   "execution_count": 14,
   "metadata": {
    "collapsed": true
   },
   "outputs": [],
   "source": [
    "import math"
   ]
  },
  {
   "cell_type": "markdown",
   "metadata": {
    "collapsed": true
   },
   "source": [
    "El módulo `math` contiene una función llamada `sinh`, que sirve para calcular el seno hiperbólico de un número (no te preocupes si no sabes lo que es, es sólo un ejemplo; si te pica la curiosidad puedes ver su definición [aquí](https://es.wikipedia.org/wiki/Seno_hiperbólico). La función seno hiperbólico cumple:\n",
    "$$\\sinh(0) = 0$$\n",
    "Así que, dado que supuestamente  hemos importado todas las funciones del módulo `math`, deberíamos poder ejecutar este código y obtener 0 como respuesta (al menos aproximadamente) :"
   ]
  },
  {
   "cell_type": "code",
   "execution_count": null,
   "metadata": {
    "collapsed": true
   },
   "outputs": [],
   "source": [
    "sinh(0)"
   ]
  },
  {
   "cell_type": "markdown",
   "metadata": {},
   "source": [
    "Sin embargo si ejecutas ese código verás que Python te espeta un mensaje de error inesperado, en el que dice que:\n",
    "\n",
    "`name 'sinh' is not defined`\n",
    "\n",
    "¿Cómo es posible? Esto se debe a que la comodidad de importar todas las funciones del módulo `math` a la vez tiene un precio. Al usar `import math` Python en efecto ha importado todas las funciones, pero para saber de qué módulo proceden ha añadido el prefijo `math` seguido de un punto al nombre de cada una de esas funciones. Así que la forma correcta de usar la función es:"
   ]
  },
  {
   "cell_type": "code",
   "execution_count": 16,
   "metadata": {
    "collapsed": false
   },
   "outputs": [
    {
     "data": {
      "text/plain": [
       "0.0"
      ]
     },
     "execution_count": 16,
     "metadata": {},
     "output_type": "execute_result"
    }
   ],
   "source": [
    "math.sinh(0)"
   ]
  },
  {
   "cell_type": "markdown",
   "metadata": {},
   "source": [
    "Prueba a ejecutar esta versión de la función y verás que ahora no hay errores y el resultado es el esperado.\n",
    "\n",
    "### Importar módulos sin prefijo. Posibles conflictos de nombre.\n",
    "\n",
    "Es posible que pienses que, puestas así las cosas, no hemos ganado mucho importando todas las funciones de `math` a la vez. La supuesta comodidad queda en parte eclipsada por la necesidad de escribir ese prefijo `math` delante de cada aparición de una función del módulo. \n",
    "\n",
    "Creemos que es conveniente que comprendas el problema que se plantea para los desarrolladores de Python, y el compromiso que han tenido que adoptar para evitar errores imprevisibles: pronto vamos a aprender a escribir nuestras propias funciones. Y estos prefijos son necesarios para evitar conflictos entre funciones de distintos módulos que tienen el mismo nombre.\n",
    "\n",
    "En cualquier caso, cuando estamos muy seguros de lo que hacemos podemos usar una forma distinta de importación:"
   ]
  },
  {
   "cell_type": "code",
   "execution_count": 17,
   "metadata": {
    "collapsed": true
   },
   "outputs": [],
   "source": [
    "from math import *"
   ]
  },
  {
   "cell_type": "markdown",
   "metadata": {},
   "source": [
    "Esta forma de importar te recordará a la primera que hemos visto, pero ahora el asterisco juega el papel de *comodín*, de manera que lo que estamos diciéndole a Python es que importe todas las funciones del módulo `math`, usando directamente los nombres de esas funciones, sin prefijos. Ahora puedes probar a ejecutar directamente:"
   ]
  },
  {
   "cell_type": "code",
   "execution_count": 18,
   "metadata": {
    "collapsed": false
   },
   "outputs": [
    {
     "data": {
      "text/plain": [
       "0.0"
      ]
     },
     "execution_count": 18,
     "metadata": {},
     "output_type": "execute_result"
    }
   ],
   "source": [
    "sinh(0)"
   ]
  },
  {
   "cell_type": "markdown",
   "metadata": {},
   "source": [
    "#### Números complejos como ejemplo de conflicto de nombres.\n",
    "\n",
    "Los conflictos de nombre a los que hemos aludido antes no son un fenómeno raro. Para que veas un ejemplo sencillo vamos a usar otro módulo de Python llamado `cmath` que contiene funciones para trabajar con números complejos. Podrías cargar todas las funciones de ese módulo como hemos hecho con las de `math`."
   ]
  },
  {
   "cell_type": "code",
   "execution_count": 19,
   "metadata": {
    "collapsed": true
   },
   "outputs": [],
   "source": [
    "from cmath import *"
   ]
  },
  {
   "cell_type": "markdown",
   "metadata": {},
   "source": [
    "Y ahora, supongamos que quieres volver a calcular la misma raíz cuadrada que vimos como primer ejemplo: "
   ]
  },
  {
   "cell_type": "code",
   "execution_count": 20,
   "metadata": {
    "collapsed": false
   },
   "outputs": [
    {
     "data": {
      "text/plain": [
       "(3+0j)"
      ]
     },
     "execution_count": 20,
     "metadata": {},
     "output_type": "execute_result"
    }
   ],
   "source": [
    "sqrt(9)"
   ]
  },
  {
   "cell_type": "markdown",
   "metadata": {},
   "source": [
    "-\n"
   ]
  },
  {
   "cell_type": "markdown",
   "metadata": {
    "variables": {
     "ejercicio": "4"
    }
   },
   "source": [
    "** Ejercicio:**  \n",
    "\n",
    "Vamos a comprobar el hecho de que el último módulo importado reemplaza a las anteriores funciones del mismo nombre. Vuelve a importar `math` usando el método del asterisco y repite el cálculo de $\\sqrt{9}$. ¿Qué sucede ahora?\n",
    "<hr style=\"background:#FFAAAA; border:0; height:2px\" />"
   ]
  },
  {
   "cell_type": "markdown",
   "metadata": {},
   "source": [
    "Como ilustra este ejemplo, la opción de importar las funciones de un módulo usando el asterisco es a menudo demasiado arriesgada y puede producir errores difíciles de diagnosticar cuando el código en Python sea más complejo que los ejemplos básicos que estamos viendo. Por esa razón usar el asterisco para importar se considera una *mala práctica* al programar en Python. ¡No lo hagas! Y por si te lo has preguntado, ocurre algo análogo si usas:\n",
    "```\n",
    "from math import sqrt\n",
    "```\n",
    "y después \n",
    "```\n",
    "from cmath import sqrt\n",
    "```\n",
    "La segunda función importada reemplaza a la anterior. Tenemos que resignarnos, por tanto, a utilizar los prefijos de los módulos. Es decir que tenemos que hacer:"
   ]
  },
  {
   "cell_type": "code",
   "execution_count": 22,
   "metadata": {
    "collapsed": true
   },
   "outputs": [],
   "source": [
    "import math"
   ]
  },
  {
   "cell_type": "markdown",
   "metadata": {},
   "source": [
    "Y ahora usar la función raíz cuadrada mediante:"
   ]
  },
  {
   "cell_type": "code",
   "execution_count": 23,
   "metadata": {
    "collapsed": false
   },
   "outputs": [
    {
     "data": {
      "text/plain": [
       "3.0"
      ]
     },
     "execution_count": 23,
     "metadata": {},
     "output_type": "execute_result"
    }
   ],
   "source": [
    "math.sqrt(9)"
   ]
  },
  {
   "cell_type": "markdown",
   "metadata": {},
   "source": [
    "Si queremos usar la raíz cuadrada de un número complejo hacemos:"
   ]
  },
  {
   "cell_type": "code",
   "execution_count": 24,
   "metadata": {
    "collapsed": true
   },
   "outputs": [],
   "source": [
    "import cmath"
   ]
  },
  {
   "cell_type": "markdown",
   "metadata": {},
   "source": [
    "y ahora podemos calcular con:"
   ]
  },
  {
   "cell_type": "code",
   "execution_count": 25,
   "metadata": {
    "collapsed": false
   },
   "outputs": [
    {
     "data": {
      "text/plain": [
       "(3+0j)"
      ]
     },
     "execution_count": 25,
     "metadata": {},
     "output_type": "execute_result"
    }
   ],
   "source": [
    "cmath.sqrt(9)"
   ]
  },
  {
   "cell_type": "markdown",
   "metadata": {},
   "source": [
    "Esto no afecta a la otra función `sqrt`, la de `math`, que sigue funcionando sin problemas:"
   ]
  },
  {
   "cell_type": "code",
   "execution_count": 26,
   "metadata": {
    "collapsed": false
   },
   "outputs": [
    {
     "data": {
      "text/plain": [
       "5.0"
      ]
     },
     "execution_count": 26,
     "metadata": {},
     "output_type": "execute_result"
    }
   ],
   "source": [
    "math.sqrt(25)"
   ]
  },
  {
   "cell_type": "markdown",
   "metadata": {},
   "source": [
    "Esta forma de trabajar elimina los conflictos de nombre entre módulos, pero puede resultar especialmente molesto con módulos de nombres largos. Por ejemplo, un poco más abajo aprenderemos a usar el módulo `matplotlib` para dibujar algunas gráficas. Sería bastante molesto tener que escribir el prefijo `matplotlib` cada vez que queremos usar una función de ese módulo. Para aliviar al menos parcialmente esa incomodidad Python nos permite usar un *alias*, normalmente una abreviatura, para importar un módulo. Por ejemplo, para importar `matplotlib` usaríamos:\n",
    "\n",
    "```\n",
    "import matplotlib as mp\n",
    "```\n",
    "\n",
    "y entonces en lugar de usar `matplotlib` como prefijo para las funciones de ese módulo basta con usar `mp`. Aunque `math` y `cmath` son nombres de módulo relativamente cortos, vamos a usar alias aún más cortos para que nos sirvan de ejemplo de cómo funciona esta idea:"
   ]
  },
  {
   "cell_type": "code",
   "execution_count": 27,
   "metadata": {
    "collapsed": true
   },
   "outputs": [],
   "source": [
    "import math as m\n",
    "import cmath as c"
   ]
  },
  {
   "cell_type": "markdown",
   "metadata": {},
   "source": [
    "Y ahora usamos las funciones raíz cuadrada de cada módulo mediante estos alias:"
   ]
  },
  {
   "cell_type": "code",
   "execution_count": 28,
   "metadata": {
    "collapsed": false
   },
   "outputs": [
    {
     "data": {
      "text/plain": [
       "3.0"
      ]
     },
     "execution_count": 28,
     "metadata": {},
     "output_type": "execute_result"
    }
   ],
   "source": [
    "m.sqrt(9)"
   ]
  },
  {
   "cell_type": "code",
   "execution_count": 29,
   "metadata": {
    "collapsed": false
   },
   "outputs": [
    {
     "data": {
      "text/plain": [
       "(3+0j)"
      ]
     },
     "execution_count": 29,
     "metadata": {},
     "output_type": "execute_result"
    }
   ],
   "source": [
    "c.sqrt(9)"
   ]
  },
  {
   "cell_type": "markdown",
   "metadata": {},
   "source": [
    "Como ves, de esta forma el esfuerzo necesario para evitar conflictos es considerablemente menor."
   ]
  },
  {
   "cell_type": "markdown",
   "metadata": {},
   "source": [
    "###  Borrando la memoria de un cuaderno de Python.\n",
    "\n",
    "Al llegar a a este punto hemos importado los módulos `math` y `cmath` de tantas maneras que es difícil seguirles el rastro. Y eso, al igual que ocurría con los conflictos de nombre, puede causarnos problemas en el resto del cuaderno. A veces, al trabajar en un cuaderno de Jupyter, te encontrarás en una situación como esta en la que quieres hacer *tabla rasa* y pedirle a Python que olvide todos los pasos previos para poder empezar a trabajar sin preocuparte de ese tipo de conflictos. Afortunadamente, existe un mecanismo para hacer esto. Basta con escribir \n",
    "```\n",
    "%reset\n",
    "```\n",
    "en una celda de código y ejecutarlo. Al hacerlo, Jupyter nos pedirá que confirmemos esa decisión. Al fin y al cabo, estaremos borrando todos los *resultados* del código que hayamos ejecutado hasta ese momento. **Es importante entender esto:** no borramos ni el código que hemos escrito, ni desde luego las celdas de texto como esta. Lo único que desaparece son los resultados de ejecutar el código del cuaderno hasta ese momento. ¡Qué no es poco a veces! Algunos cuadernos que hemos escrito tardan horas en ejecutarse, y en ese caso hacer un reset puede suponer perder todo ese trabajo. Asegúrate siempre de que realmente quieres hacer esto.\n",
    "\n",
    "Una vez hechas las advertencias pertinentes, adelante. Hagamos un reset en la celda situada justo aquí debajo."
   ]
  },
  {
   "cell_type": "code",
   "execution_count": 2,
   "metadata": {
    "collapsed": false
   },
   "outputs": [
    {
     "name": "stdout",
     "output_type": "stream",
     "text": [
      "Once deleted, variables cannot be recovered. Proceed (y/[n])? y\n"
     ]
    }
   ],
   "source": [
    "%reset"
   ]
  },
  {
   "cell_type": "markdown",
   "metadata": {
    "variables": {
     "ejercicio": "5"
    }
   },
   "source": [
    "** Ejercicio:**  \n",
    "\n",
    "Para comprobar que, en efecto, hemos deshecho el trabajo previo, prueba a ejecutar el siguiente módulo de código. Deberías obtener un mensaje de error como prueba de que Python ha olvidado nuestras andanzas hasta ahora: \n",
    "<hr style=\"background:#FFAAAA; border:0; height:2px\" />\n"
   ]
  },
  {
   "cell_type": "code",
   "execution_count": null,
   "metadata": {
    "collapsed": true
   },
   "outputs": [],
   "source": [
    "m.sqrt(9)"
   ]
  },
  {
   "cell_type": "markdown",
   "metadata": {},
   "source": [
    "# Variables."
   ]
  },
  {
   "cell_type": "markdown",
   "metadata": {},
   "source": [
    "En la sección previa hemos usado Python como una calculadora. Pero, para ir más allá, tenemos que disponer de *estructuras de datos*. Ese término describe, en Computación, las herramientas que nos permiten almacenar y procesar información. Las estructuras de datos más básicas de Python son las *variables* y las *listas*. En próximos tutoriales nos iremos encontrando con otras estructuras de datos: conjuntos, diccionarios, tuplas, matrices, dataframes, entre otras.\n",
    "\n",
    "## Variables en Python.\n",
    "\n",
    "Una *variable* en Python es un símbolo o nombre que usamos para referirnos a un objeto. Por ejemplo, si ejecutas este código:"
   ]
  },
  {
   "cell_type": "code",
   "execution_count": 5,
   "metadata": {
    "collapsed": true
   },
   "outputs": [],
   "source": [
    "a = 2"
   ]
  },
  {
   "cell_type": "markdown",
   "metadata": {},
   "source": [
    "entonces, aunque aparentemente no ha sucedido nada (porque no hay respuesta), a partir de ese momento Python ha asignado el valor 2 al símbolo {\\tt a}. Así que si, por ejemplo, ejecutas"
   ]
  },
  {
   "cell_type": "code",
   "execution_count": 6,
   "metadata": {
    "collapsed": false
   },
   "outputs": [
    {
     "data": {
      "text/plain": [
       "3"
      ]
     },
     "execution_count": 6,
     "metadata": {},
     "output_type": "execute_result"
    }
   ],
   "source": [
    "a + 1"
   ]
  },
  {
   "cell_type": "markdown",
   "metadata": {
    "collapsed": true
   },
   "source": [
    "obtendrás como respuesta $3$."
   ]
  },
  {
   "cell_type": "markdown",
   "metadata": {},
   "source": [
    "**Ejercicio:**\n",
    "\n",
    "¿Cuánto valen las variables a, b y c al ejecutar estos comandos uno tras otro? Haz una tabla con tres columnas tituladas a, b y c y anota el valor de las variables en cada paso."
   ]
  },
  {
   "cell_type": "code",
   "execution_count": null,
   "metadata": {
    "collapsed": true
   },
   "outputs": [],
   "source": [
    "a = 2\n",
    "b = 3\n",
    "c = a + b\n",
    "a = b * c\n",
    "b = (c - a)^2\n",
    "c = a * b"
   ]
  },
  {
   "cell_type": "markdown",
   "metadata": {
    "collapsed": true
   },
   "source": [
    "Como has podido ver, al ejecutar esas asignaciones Python no produce ningún valor como resultado. ¿Se te ocurre alguna forma de comprobar los resultados que has escrito en la tabla?\n",
    "<hr style=\"background:#FFAAAA; border:0; height:2px\" />"
   ]
  },
  {
   "cell_type": "markdown",
   "metadata": {
    "collapsed": true
   },
   "source": [
    "### Variables de tipo cadena de caracteres.\n",
    "\n",
    "En el Capítulo 1 del libro hemos hablado de variables cualitativas y cuantitativas. Estas últimas toman siempre valores numéricos, y las variables de Python sirven, desde luego, para almacenar esa clase de valores. Pero, como iremos viendo en sucesivos tutoriales,  también se pueden utilizar variables de Python para guardar valores de variables cualitativas (factores), y  otros tipos de objetos que iremos conociendo a lo largo del curso. De momento, para que veas a que nos referimos, recordaremos el Ejemplo \\ref{curso-cap01:ejem:VariableCualitativaOrdenada} del libro (pág. \\pageref{curso-cap01:ejem:VariableCualitativaOrdenada}), en el que teníamos una variable cualitativa ordenada que representa el pronóstico de un paciente que ingresa en un hospital. Prueba a ejecutar este código:"
   ]
  },
  {
   "cell_type": "code",
   "execution_count": null,
   "metadata": {
    "collapsed": true
   },
   "outputs": [],
   "source": []
  },
  {
   "cell_type": "code",
   "execution_count": null,
   "metadata": {
    "collapsed": true
   },
   "outputs": [],
   "source": []
  },
  {
   "cell_type": "code",
   "execution_count": null,
   "metadata": {
    "collapsed": true
   },
   "outputs": [],
   "source": []
  },
  {
   "cell_type": "code",
   "execution_count": null,
   "metadata": {
    "collapsed": true
   },
   "outputs": [],
   "source": []
  },
  {
   "cell_type": "code",
   "execution_count": null,
   "metadata": {
    "collapsed": true
   },
   "outputs": [],
   "source": []
  },
  {
   "cell_type": "code",
   "execution_count": null,
   "metadata": {
    "collapsed": true
   },
   "outputs": [],
   "source": []
  },
  {
   "cell_type": "code",
   "execution_count": null,
   "metadata": {
    "collapsed": true
   },
   "outputs": [],
   "source": []
  },
  {
   "cell_type": "code",
   "execution_count": null,
   "metadata": {
    "collapsed": true
   },
   "outputs": [],
   "source": []
  },
  {
   "cell_type": "markdown",
   "metadata": {},
   "source": [
    "# Listas."
   ]
  },
  {
   "cell_type": "code",
   "execution_count": null,
   "metadata": {
    "collapsed": true
   },
   "outputs": [],
   "source": [
    "edades = [22, 21, 18, 19, 17, 21, 18, 20, 17, 18, 17, 22, 20, 19, 18, 19, 18, 22, 20, 19]"
   ]
  },
  {
   "cell_type": "code",
   "execution_count": null,
   "metadata": {
    "collapsed": true
   },
   "outputs": [],
   "source": []
  },
  {
   "cell_type": "raw",
   "metadata": {},
   "source": []
  },
  {
   "cell_type": "markdown",
   "metadata": {},
   "source": [
    "## Selección de elementos dentro de una lista."
   ]
  },
  {
   "cell_type": "code",
   "execution_count": null,
   "metadata": {
    "collapsed": true
   },
   "outputs": [],
   "source": []
  },
  {
   "cell_type": "markdown",
   "metadata": {},
   "source": [
    "## Listas a medida."
   ]
  },
  {
   "cell_type": "code",
   "execution_count": null,
   "metadata": {
    "collapsed": false
   },
   "outputs": [],
   "source": [
    "list(range(10))"
   ]
  },
  {
   "cell_type": "code",
   "execution_count": null,
   "metadata": {
    "collapsed": false
   },
   "outputs": [],
   "source": [
    "list(range(2, 15))"
   ]
  },
  {
   "cell_type": "code",
   "execution_count": null,
   "metadata": {
    "collapsed": false
   },
   "outputs": [],
   "source": [
    "list(range(2, 15, 3))"
   ]
  },
  {
   "cell_type": "code",
   "execution_count": null,
   "metadata": {
    "collapsed": false
   },
   "outputs": [],
   "source": [
    "list(range(15, 2))"
   ]
  },
  {
   "cell_type": "code",
   "execution_count": null,
   "metadata": {
    "collapsed": false
   },
   "outputs": [],
   "source": [
    "list(range(15, 2, -3))"
   ]
  },
  {
   "cell_type": "code",
   "execution_count": null,
   "metadata": {
    "collapsed": false
   },
   "outputs": [],
   "source": [
    "# list(range(2, 5, 0.3))"
   ]
  },
  {
   "cell_type": "code",
   "execution_count": null,
   "metadata": {
    "collapsed": false
   },
   "outputs": [],
   "source": [
    "list(np.arange(2, 5, 0.3))"
   ]
  },
  {
   "cell_type": "code",
   "execution_count": null,
   "metadata": {
    "collapsed": true
   },
   "outputs": [],
   "source": []
  },
  {
   "cell_type": "code",
   "execution_count": null,
   "metadata": {
    "collapsed": true
   },
   "outputs": [],
   "source": []
  },
  {
   "cell_type": "code",
   "execution_count": null,
   "metadata": {
    "collapsed": true
   },
   "outputs": [],
   "source": [
    "valores = [1, 2, 3, 4, 5]"
   ]
  },
  {
   "cell_type": "code",
   "execution_count": null,
   "metadata": {
    "collapsed": false,
    "scrolled": true
   },
   "outputs": [],
   "source": [
    "print(np.repeat(valores, 3))"
   ]
  },
  {
   "cell_type": "code",
   "execution_count": null,
   "metadata": {
    "collapsed": true
   },
   "outputs": [],
   "source": []
  },
  {
   "cell_type": "code",
   "execution_count": null,
   "metadata": {
    "collapsed": false
   },
   "outputs": [],
   "source": []
  },
  {
   "cell_type": "code",
   "execution_count": null,
   "metadata": {
    "collapsed": false
   },
   "outputs": [],
   "source": [
    "print(np.repeat(valores, [2, 9, 1, 4, 3]))"
   ]
  },
  {
   "cell_type": "code",
   "execution_count": null,
   "metadata": {
    "collapsed": true
   },
   "outputs": [],
   "source": []
  },
  {
   "cell_type": "code",
   "execution_count": null,
   "metadata": {
    "collapsed": true
   },
   "outputs": [],
   "source": []
  },
  {
   "cell_type": "code",
   "execution_count": null,
   "metadata": {
    "collapsed": true
   },
   "outputs": [],
   "source": []
  },
  {
   "cell_type": "code",
   "execution_count": null,
   "metadata": {
    "collapsed": true
   },
   "outputs": [],
   "source": []
  },
  {
   "cell_type": "code",
   "execution_count": null,
   "metadata": {
    "collapsed": true
   },
   "outputs": [],
   "source": []
  },
  {
   "cell_type": "code",
   "execution_count": null,
   "metadata": {
    "collapsed": true
   },
   "outputs": [],
   "source": []
  },
  {
   "cell_type": "markdown",
   "metadata": {},
   "source": [
    "## Ordenación de una lista."
   ]
  },
  {
   "cell_type": "code",
   "execution_count": null,
   "metadata": {
    "collapsed": false
   },
   "outputs": [],
   "source": [
    "print(sorted(edades))"
   ]
  },
  {
   "cell_type": "code",
   "execution_count": null,
   "metadata": {
    "collapsed": false
   },
   "outputs": [],
   "source": [
    "print(sorted(edades, reverse=True))"
   ]
  },
  {
   "cell_type": "markdown",
   "metadata": {},
   "source": [
    "### Ordenación *in situ*."
   ]
  },
  {
   "cell_type": "code",
   "execution_count": null,
   "metadata": {
    "collapsed": false
   },
   "outputs": [],
   "source": [
    "edades_copia = list(edades)\n",
    "print(edades_copia)"
   ]
  },
  {
   "cell_type": "code",
   "execution_count": null,
   "metadata": {
    "collapsed": false
   },
   "outputs": [],
   "source": [
    "edades_copia.sort()\n",
    "print(edades)\n",
    "print(edades_copia)"
   ]
  },
  {
   "cell_type": "markdown",
   "metadata": {},
   "source": [
    "## Operaciones sobre todos los elementos de una lista. "
   ]
  },
  {
   "cell_type": "code",
   "execution_count": null,
   "metadata": {
    "collapsed": true
   },
   "outputs": [],
   "source": []
  },
  {
   "cell_type": "markdown",
   "metadata": {},
   "source": [
    "### Bucles for."
   ]
  },
  {
   "cell_type": "code",
   "execution_count": null,
   "metadata": {
    "collapsed": true
   },
   "outputs": [],
   "source": []
  },
  {
   "cell_type": "markdown",
   "metadata": {},
   "source": [
    "### Otra forma de hacerlo: comprensión de listas . "
   ]
  },
  {
   "cell_type": "code",
   "execution_count": null,
   "metadata": {
    "collapsed": false
   },
   "outputs": [],
   "source": [
    "edadesCuadrado = [edad**2 for edad in edades]\n",
    "print(edadesCuadrado)"
   ]
  },
  {
   "cell_type": "markdown",
   "metadata": {},
   "source": [
    "### Y todavía una forma más: Numpy y aritmética vectorial."
   ]
  },
  {
   "cell_type": "code",
   "execution_count": null,
   "metadata": {
    "collapsed": true
   },
   "outputs": [],
   "source": []
  },
  {
   "cell_type": "code",
   "execution_count": null,
   "metadata": {
    "collapsed": false
   },
   "outputs": [],
   "source": [
    "import numpy as np\n",
    "edades_np = np.array(edades)\n",
    "edades_np"
   ]
  },
  {
   "cell_type": "code",
   "execution_count": null,
   "metadata": {
    "collapsed": false
   },
   "outputs": [],
   "source": [
    "edades_np + 1"
   ]
  },
  {
   "cell_type": "code",
   "execution_count": null,
   "metadata": {
    "collapsed": false
   },
   "outputs": [],
   "source": [
    "edades_np**2"
   ]
  },
  {
   "cell_type": "code",
   "execution_count": null,
   "metadata": {
    "collapsed": true
   },
   "outputs": [],
   "source": []
  },
  {
   "cell_type": "markdown",
   "metadata": {},
   "source": [
    "# Ficheros `csv` con Python."
   ]
  },
  {
   "cell_type": "markdown",
   "metadata": {},
   "source": [
    "## Leyendo datos de un fichero csv."
   ]
  },
  {
   "cell_type": "code",
   "execution_count": null,
   "metadata": {
    "collapsed": false
   },
   "outputs": [],
   "source": [
    "from pandas import read_csv"
   ]
  },
  {
   "cell_type": "code",
   "execution_count": null,
   "metadata": {
    "collapsed": false
   },
   "outputs": [],
   "source": [
    "vectorEdades = read_csv(\"../datos/Tut02-Edades.csv\", names=[\"v\"])\n",
    "vectorEdades = vectorEdades[\"v\"].tolist()\n",
    "print(vectorEdades)"
   ]
  },
  {
   "cell_type": "markdown",
   "metadata": {},
   "source": [
    "### Otro formato del fichero de datos."
   ]
  },
  {
   "cell_type": "code",
   "execution_count": null,
   "metadata": {
    "collapsed": false
   },
   "outputs": [],
   "source": [
    "from numpy import genfromtxt\n",
    "vectorEdades2 = genfromtxt(\"../datos/Tut02-Edades2.csv\", delimiter=',', dtype='int')\n",
    "print(vectorEdades2.tolist())"
   ]
  },
  {
   "cell_type": "markdown",
   "metadata": {},
   "source": [
    "## Escribiendo datos a un fichero csv."
   ]
  },
  {
   "cell_type": "code",
   "execution_count": null,
   "metadata": {
    "collapsed": false
   },
   "outputs": [],
   "source": [
    "import csv\n",
    "datos = list(range(1, 51))\n",
    "print(datos)\n",
    "with open('csvdeprueba.csv', 'w', newline='\\n') as file:\n",
    "    writer = csv.writer(file, lineterminator='\\n')\n",
    "    for dato in datos:\n",
    "        writer.writerow([dato])"
   ]
  },
  {
   "cell_type": "code",
   "execution_count": null,
   "metadata": {
    "collapsed": false
   },
   "outputs": [],
   "source": [
    "import csv\n",
    "datos = list(range(1, 51))\n",
    "print(datos)\n",
    "with open('csvdeprueba2.csv', 'w', newline='') as file:\n",
    "    writer = csv.writer(file, lineterminator='\\n')\n",
    "    writer.writerow(datos)\n",
    "    "
   ]
  },
  {
   "cell_type": "code",
   "execution_count": null,
   "metadata": {
    "collapsed": true
   },
   "outputs": [],
   "source": []
  },
  {
   "cell_type": "markdown",
   "metadata": {},
   "source": [
    "# Estadística descriptiva de una variable cuantitativa, datos no agrupados."
   ]
  },
  {
   "cell_type": "markdown",
   "metadata": {},
   "source": [
    "### Lectura del fichero de datos."
   ]
  },
  {
   "cell_type": "code",
   "execution_count": null,
   "metadata": {
    "collapsed": false
   },
   "outputs": [],
   "source": [
    "var3 = read_csv(\"../datos/Tut02-var3.csv\", names=[\"v\"])\n",
    "var3 = var3[\"v\"].tolist()\n",
    "print(var3)"
   ]
  },
  {
   "cell_type": "markdown",
   "metadata": {},
   "source": [
    "## Recorrido de una lista de números.  "
   ]
  },
  {
   "cell_type": "code",
   "execution_count": null,
   "metadata": {
    "collapsed": false
   },
   "outputs": [],
   "source": [
    "min(var3)"
   ]
  },
  {
   "cell_type": "code",
   "execution_count": null,
   "metadata": {
    "collapsed": false
   },
   "outputs": [],
   "source": [
    "max(var3)"
   ]
  },
  {
   "cell_type": "code",
   "execution_count": null,
   "metadata": {
    "collapsed": false
   },
   "outputs": [],
   "source": [
    "np.ptp(var3) # max - min (peak to peak)"
   ]
  },
  {
   "cell_type": "markdown",
   "metadata": {},
   "source": [
    "## Tablas de frecuencia."
   ]
  },
  {
   "cell_type": "code",
   "execution_count": null,
   "metadata": {
    "collapsed": false
   },
   "outputs": [],
   "source": [
    "from collections import Counter\n",
    "var3_counter = Counter(var3)\n",
    "freqVar3 = var3_counter.most_common()\n",
    "print(freqVar3)"
   ]
  },
  {
   "cell_type": "code",
   "execution_count": null,
   "metadata": {
    "collapsed": false
   },
   "outputs": [],
   "source": [
    "sorted(freqVar3)"
   ]
  },
  {
   "cell_type": "markdown",
   "metadata": {},
   "source": [
    "## Gráficos."
   ]
  },
  {
   "cell_type": "code",
   "execution_count": null,
   "metadata": {
    "collapsed": true
   },
   "outputs": [],
   "source": [
    "%matplotlib inline"
   ]
  },
  {
   "cell_type": "code",
   "execution_count": null,
   "metadata": {
    "collapsed": false
   },
   "outputs": [],
   "source": [
    "import matplotlib.pyplot as plt\n",
    "bpVar3 = plt.boxplot(var3, patch_artist=True)\n",
    "plt.setp(bpVar3['boxes'], facecolor='tan')  \n",
    "plt.show()"
   ]
  },
  {
   "cell_type": "code",
   "execution_count": null,
   "metadata": {
    "collapsed": false
   },
   "outputs": [],
   "source": [
    "posiciones = [item[0] for item in sorted(freqVar3)]\n",
    "print(posiciones)\n",
    "alturas = [item[1] for item in sorted(freqVar3)]\n",
    "print(alturas)\n",
    "plt.bar(posiciones, alturas, align='center', color='tan')\n",
    "plt.show()"
   ]
  },
  {
   "cell_type": "code",
   "execution_count": null,
   "metadata": {
    "collapsed": false
   },
   "outputs": [],
   "source": [
    "plt.hist(var3, bins=15, color='tan')\n",
    "plt.show()"
   ]
  },
  {
   "cell_type": "code",
   "execution_count": null,
   "metadata": {
    "collapsed": true
   },
   "outputs": [],
   "source": []
  },
  {
   "cell_type": "markdown",
   "metadata": {},
   "source": [
    "## Media aritmética."
   ]
  },
  {
   "cell_type": "code",
   "execution_count": null,
   "metadata": {
    "collapsed": false
   },
   "outputs": [],
   "source": [
    "len(var3)"
   ]
  },
  {
   "cell_type": "code",
   "execution_count": null,
   "metadata": {
    "collapsed": false
   },
   "outputs": [],
   "source": [
    "sum(var3)"
   ]
  },
  {
   "cell_type": "code",
   "execution_count": null,
   "metadata": {
    "collapsed": false
   },
   "outputs": [],
   "source": [
    "mediaVar3 = sum(var3) / len(var3)\n",
    "print(mediaVar3)"
   ]
  },
  {
   "cell_type": "markdown",
   "metadata": {},
   "source": [
    "### Con NumPy."
   ]
  },
  {
   "cell_type": "code",
   "execution_count": null,
   "metadata": {
    "collapsed": false
   },
   "outputs": [],
   "source": [
    "np.mean(var3)"
   ]
  },
  {
   "cell_type": "markdown",
   "metadata": {},
   "source": [
    "## Varianza y desviación típica (poblacional y muestral)."
   ]
  },
  {
   "cell_type": "markdown",
   "metadata": {},
   "source": [
    "### Varianza Poblacional."
   ]
  },
  {
   "cell_type": "code",
   "execution_count": null,
   "metadata": {
    "collapsed": false
   },
   "outputs": [],
   "source": [
    "varPoblacional = sum([(valor - mediaVar3)**2 for valor in var3]) / len(var3)\n",
    "print(varPoblacional)"
   ]
  },
  {
   "cell_type": "markdown",
   "metadata": {},
   "source": [
    "### Varianza muestral."
   ]
  },
  {
   "cell_type": "code",
   "execution_count": null,
   "metadata": {
    "collapsed": false
   },
   "outputs": [],
   "source": [
    "varMuestral = sum([(valor - mediaVar3)**2 for valor in var3]) / (len(var3) - 1)\n",
    "print(varMuestral)"
   ]
  },
  {
   "cell_type": "markdown",
   "metadata": {},
   "source": [
    "### Desviación típica poblacional."
   ]
  },
  {
   "cell_type": "code",
   "execution_count": null,
   "metadata": {
    "collapsed": false
   },
   "outputs": [],
   "source": [
    "from math import sqrt\n",
    "desvestPoblacional = sqrt(varPoblacional)\n",
    "print(desvestPoblacional)"
   ]
  },
  {
   "cell_type": "markdown",
   "metadata": {},
   "source": [
    "### Desviación típica muestral."
   ]
  },
  {
   "cell_type": "code",
   "execution_count": null,
   "metadata": {
    "collapsed": false
   },
   "outputs": [],
   "source": [
    "desvestMuestral = sqrt(varMuestral)\n",
    "print(desvestMuestral)"
   ]
  },
  {
   "cell_type": "markdown",
   "metadata": {},
   "source": [
    "### Con NumPy."
   ]
  },
  {
   "cell_type": "code",
   "execution_count": null,
   "metadata": {
    "collapsed": false
   },
   "outputs": [],
   "source": [
    "np.var(var3, ddof=1)"
   ]
  },
  {
   "cell_type": "code",
   "execution_count": null,
   "metadata": {
    "collapsed": false
   },
   "outputs": [],
   "source": [
    "np.var(var3, ddof=0)"
   ]
  },
  {
   "cell_type": "code",
   "execution_count": null,
   "metadata": {
    "collapsed": false
   },
   "outputs": [],
   "source": [
    "np.var(var3)"
   ]
  },
  {
   "cell_type": "code",
   "execution_count": null,
   "metadata": {
    "collapsed": false
   },
   "outputs": [],
   "source": [
    "np.std(var3, ddof=1)"
   ]
  },
  {
   "cell_type": "code",
   "execution_count": null,
   "metadata": {
    "collapsed": false
   },
   "outputs": [],
   "source": [
    "np.std(var3)"
   ]
  },
  {
   "cell_type": "markdown",
   "metadata": {},
   "source": [
    "## Medidas de posición: mediana, cuartiles y percentiles. Rango intercuartílico."
   ]
  },
  {
   "cell_type": "markdown",
   "metadata": {},
   "source": [
    "## Mediana."
   ]
  },
  {
   "cell_type": "code",
   "execution_count": null,
   "metadata": {
    "collapsed": false
   },
   "outputs": [],
   "source": [
    "np.median(var3)"
   ]
  },
  {
   "cell_type": "markdown",
   "metadata": {},
   "source": [
    "## Cuartiles y percentiles."
   ]
  },
  {
   "cell_type": "code",
   "execution_count": null,
   "metadata": {
    "collapsed": false
   },
   "outputs": [],
   "source": [
    "np.percentile(var3, 25)"
   ]
  },
  {
   "cell_type": "code",
   "execution_count": null,
   "metadata": {
    "collapsed": false
   },
   "outputs": [],
   "source": [
    "list(np.percentile(var3, [0, 25, 50, 75, 100]))"
   ]
  },
  {
   "cell_type": "code",
   "execution_count": null,
   "metadata": {
    "collapsed": false
   },
   "outputs": [],
   "source": [
    "IQR = np.percentile(var3, 75) - np.percentile(var3, 25)\n",
    "print(IQR)"
   ]
  },
  {
   "cell_type": "code",
   "execution_count": null,
   "metadata": {
    "collapsed": true
   },
   "outputs": [],
   "source": []
  },
  {
   "cell_type": "markdown",
   "metadata": {},
   "source": [
    "# Ficheros de comandos Python. Comentarios."
   ]
  },
  {
   "cell_type": "code",
   "execution_count": null,
   "metadata": {
    "collapsed": true
   },
   "outputs": [],
   "source": []
  },
  {
   "cell_type": "code",
   "execution_count": null,
   "metadata": {
    "collapsed": true
   },
   "outputs": [],
   "source": []
  },
  {
   "cell_type": "markdown",
   "metadata": {},
   "source": [
    "# Más operaciones con listas. "
   ]
  },
  {
   "cell_type": "code",
   "execution_count": null,
   "metadata": {
    "collapsed": true
   },
   "outputs": [],
   "source": []
  },
  {
   "cell_type": "markdown",
   "metadata": {},
   "source": [
    "## Números aleatorios."
   ]
  },
  {
   "cell_type": "code",
   "execution_count": null,
   "metadata": {
    "collapsed": false
   },
   "outputs": [],
   "source": [
    "import random\n",
    "random.randint(1, 6)"
   ]
  },
  {
   "cell_type": "code",
   "execution_count": null,
   "metadata": {
    "collapsed": false
   },
   "outputs": [],
   "source": [
    "dado100 = [random.randint(1, 6) for i in range(0, 100)]\n",
    "print(dado100)"
   ]
  },
  {
   "cell_type": "code",
   "execution_count": null,
   "metadata": {
    "collapsed": false
   },
   "outputs": [],
   "source": [
    "dado100_counter = Counter(dado100)\n",
    "freqDado100 = dado100_counter.most_common()\n",
    "sorted(freqDado100)"
   ]
  },
  {
   "cell_type": "code",
   "execution_count": null,
   "metadata": {
    "collapsed": false
   },
   "outputs": [],
   "source": [
    "print(edades)\n",
    "print(freqEdades)\n",
    "import numpy\n",
    "numpy.random.choice(edades, size=100, replace=True, p=None)"
   ]
  },
  {
   "cell_type": "code",
   "execution_count": null,
   "metadata": {
    "collapsed": false
   },
   "outputs": [],
   "source": [
    "numpy.random.choice(edades, size=100, replace=True, p=None)"
   ]
  },
  {
   "cell_type": "code",
   "execution_count": null,
   "metadata": {
    "collapsed": false
   },
   "outputs": [],
   "source": [
    "numpy.random.choice(edades, size=100, replace=True, p=None)"
   ]
  },
  {
   "cell_type": "code",
   "execution_count": null,
   "metadata": {
    "collapsed": false
   },
   "outputs": [],
   "source": [
    "numpy.random.seed(seed=2016)\n",
    "numpy.random.choice(edades, size=100, replace=True, p=None)"
   ]
  },
  {
   "cell_type": "code",
   "execution_count": null,
   "metadata": {
    "collapsed": false
   },
   "outputs": [],
   "source": [
    "numpy.random.seed(seed=2016)\n",
    "numpy.random.choice(edades, size=100, replace=True, p=None)"
   ]
  },
  {
   "cell_type": "markdown",
   "metadata": {},
   "source": [
    "## Conjuntos."
   ]
  },
  {
   "cell_type": "code",
   "execution_count": null,
   "metadata": {
    "collapsed": false
   },
   "outputs": [],
   "source": [
    "set(edades)"
   ]
  },
  {
   "cell_type": "code",
   "execution_count": null,
   "metadata": {
    "collapsed": false
   },
   "outputs": [],
   "source": [
    "datos = numpy.random.choice(range(1,100), size=100, replace=True, p=None)\n",
    "print(sorted(datos))"
   ]
  },
  {
   "cell_type": "code",
   "execution_count": null,
   "metadata": {
    "collapsed": false
   },
   "outputs": [],
   "source": [
    "print(set(datos))"
   ]
  },
  {
   "cell_type": "raw",
   "metadata": {},
   "source": []
  },
  {
   "cell_type": "code",
   "execution_count": null,
   "metadata": {
    "collapsed": false
   },
   "outputs": [],
   "source": [
    "import statistics as st\n",
    "np.percentile(a, 25)"
   ]
  },
  {
   "cell_type": "code",
   "execution_count": null,
   "metadata": {
    "collapsed": true
   },
   "outputs": [],
   "source": []
  },
  {
   "cell_type": "markdown",
   "metadata": {},
   "source": [
    "## Listas de cadenas de texto. "
   ]
  },
  {
   "cell_type": "code",
   "execution_count": null,
   "metadata": {
    "collapsed": false
   },
   "outputs": [],
   "source": [
    "list('hello')"
   ]
  },
  {
   "cell_type": "code",
   "execution_count": null,
   "metadata": {
    "collapsed": false
   },
   "outputs": [],
   "source": [
    "import string\n",
    "string.ascii_lowercase\n",
    "string.ascii_uppercase\n",
    "string.ascii_letters"
   ]
  },
  {
   "cell_type": "code",
   "execution_count": null,
   "metadata": {
    "collapsed": false
   },
   "outputs": [],
   "source": [
    "numpy.random.seed(seed=2016)\n",
    "letras = list(numpy.random.choice(list(string.ascii_lowercase), size=10, replace=True, p=None))\n",
    "print(letras)\n"
   ]
  },
  {
   "cell_type": "code",
   "execution_count": null,
   "metadata": {
    "collapsed": false
   },
   "outputs": [],
   "source": [
    "print(sorted(letras))"
   ]
  },
  {
   "cell_type": "code",
   "execution_count": null,
   "metadata": {
    "collapsed": true
   },
   "outputs": [],
   "source": []
  },
  {
   "cell_type": "code",
   "execution_count": null,
   "metadata": {
    "collapsed": true
   },
   "outputs": [],
   "source": []
  },
  {
   "cell_type": "code",
   "execution_count": null,
   "metadata": {
    "collapsed": true
   },
   "outputs": [],
   "source": []
  },
  {
   "cell_type": "code",
   "execution_count": null,
   "metadata": {
    "collapsed": true
   },
   "outputs": [],
   "source": []
  },
  {
   "cell_type": "code",
   "execution_count": null,
   "metadata": {
    "collapsed": true
   },
   "outputs": [],
   "source": []
  },
  {
   "cell_type": "markdown",
   "metadata": {},
   "source": [
    "# Valores booleanos y condiciones."
   ]
  },
  {
   "cell_type": "code",
   "execution_count": null,
   "metadata": {
    "collapsed": true
   },
   "outputs": [],
   "source": []
  },
  {
   "cell_type": "markdown",
   "metadata": {},
   "source": [
    "## El operador `==`."
   ]
  },
  {
   "cell_type": "code",
   "execution_count": null,
   "metadata": {
    "collapsed": true
   },
   "outputs": [],
   "source": []
  },
  {
   "cell_type": "markdown",
   "metadata": {},
   "source": [
    "## Interpretación de `True` y `False` como 1 y 0 respectivamente."
   ]
  },
  {
   "cell_type": "code",
   "execution_count": null,
   "metadata": {
    "collapsed": false
   },
   "outputs": [],
   "source": [
    "sum([True, True, False, True, False, True, False, False, False, False, True, True, True])"
   ]
  },
  {
   "cell_type": "markdown",
   "metadata": {},
   "source": [
    "## Selección de elementos de una lista mediante condiciones."
   ]
  },
  {
   "cell_type": "code",
   "execution_count": null,
   "metadata": {
    "collapsed": false
   },
   "outputs": [],
   "source": [
    "print(dado100)"
   ]
  },
  {
   "cell_type": "code",
   "execution_count": 543,
   "metadata": {
    "collapsed": false
   },
   "outputs": [
    {
     "ename": "NameError",
     "evalue": "name 'numpy' is not defined",
     "output_type": "error",
     "traceback": [
      "\u001b[0;31m---------------------------------------------------------------------------\u001b[0m",
      "\u001b[0;31mNameError\u001b[0m                                 Traceback (most recent call last)",
      "\u001b[0;32m<ipython-input-543-482d16eb2c51>\u001b[0m in \u001b[0;36m<module>\u001b[0;34m()\u001b[0m\n\u001b[0;32m----> 1\u001b[0;31m \u001b[0mnumpy\u001b[0m\u001b[0;34m.\u001b[0m\u001b[0mrandom\u001b[0m\u001b[0;34m.\u001b[0m\u001b[0mseed\u001b[0m\u001b[0;34m(\u001b[0m\u001b[0mseed\u001b[0m\u001b[0;34m=\u001b[0m\u001b[0;36m2016\u001b[0m\u001b[0;34m)\u001b[0m\u001b[0;34m\u001b[0m\u001b[0m\n\u001b[0m\u001b[1;32m      2\u001b[0m \u001b[0mmayoresQue3\u001b[0m \u001b[0;34m=\u001b[0m \u001b[0;34m[\u001b[0m\u001b[0mvalor\u001b[0m \u001b[0;32mfor\u001b[0m \u001b[0mvalor\u001b[0m \u001b[0;32min\u001b[0m \u001b[0mdado100\u001b[0m \u001b[0;32mif\u001b[0m \u001b[0mvalor\u001b[0m \u001b[0;34m>\u001b[0m \u001b[0;36m3\u001b[0m\u001b[0;34m]\u001b[0m\u001b[0;34m\u001b[0m\u001b[0m\n\u001b[1;32m      3\u001b[0m \u001b[0mprint\u001b[0m\u001b[0;34m(\u001b[0m\u001b[0mmayoresQue3\u001b[0m\u001b[0;34m)\u001b[0m\u001b[0;34m\u001b[0m\u001b[0m\n",
      "\u001b[0;31mNameError\u001b[0m: name 'numpy' is not defined"
     ]
    }
   ],
   "source": [
    "numpy.random.seed(seed=2016)\n",
    "mayoresQue3 = [valor for valor in dado100 if valor > 3]\n",
    "print(mayoresQue3)"
   ]
  },
  {
   "cell_type": "markdown",
   "metadata": {},
   "source": [
    "# Ejercicios adicionales."
   ]
  },
  {
   "cell_type": "markdown",
   "metadata": {
    "collapsed": true
   },
   "source": [
    "### Fracciones.\n",
    "\n",
    "Cuando hemos usado Python como calculadora es posible que hayas pensado *\"muchas calculadoras de mano permiten operar con fracciones\"*. Bueno, pues para tu tranquilidad, Python también. Con más precisión, el módulo `fractions` lo permite. Aparte de mostrarnos que Python es una calculadora potente, este módulo nos será de mucha utilidad en el Tutorial03, cuando al tratar el calculo de probabilidades tendremos necesidad de hacer mucha soperaciones con fracciones.\n",
    "\n",
    "Tu tarea en este ejercicio consiste en buscar información sobre ese módulo. Después impórtalo y úsalo para calcular estas operaciones:\n",
    "\n",
    " (a) $\\quad\\dfrac{3}{7} + \\dfrac{11}{5}$  \n",
    " \n",
    " (b) $\\quad \\dfrac{2}{5} \\cdot \\dfrac{15}{8}$  \n",
    " \n",
    " (c) $\\quad \\dfrac{\\dfrac{2}{5} \\cdot \\dfrac{1}{8}}{\\dfrac{1}{3} \\cdot \\dfrac{4}{7} + \\dfrac{3}{13} \\cdot \\dfrac{11}{21}}$  \n",
    " \n",
    "Para que no pienses que exageramos, la última de estas operaciones es muy representativa del tipo de cálculos que haremos al estudiar la Regla de Bayes en el cálculo de probabilidades.\n",
    "<hr style=\"background:#FFAAAA; border:0; height:2px\" />\n"
   ]
  },
  {
   "cell_type": "code",
   "execution_count": null,
   "metadata": {
    "collapsed": true
   },
   "outputs": [],
   "source": [
    " "
   ]
  },
  {
   "cell_type": "code",
   "execution_count": null,
   "metadata": {
    "collapsed": true
   },
   "outputs": [],
   "source": []
  },
  {
   "cell_type": "code",
   "execution_count": null,
   "metadata": {
    "collapsed": true
   },
   "outputs": [],
   "source": []
  },
  {
   "cell_type": "code",
   "execution_count": null,
   "metadata": {
    "collapsed": true
   },
   "outputs": [],
   "source": []
  },
  {
   "cell_type": "code",
   "execution_count": null,
   "metadata": {
    "collapsed": true
   },
   "outputs": [],
   "source": []
  },
  {
   "cell_type": "code",
   "execution_count": null,
   "metadata": {
    "collapsed": true
   },
   "outputs": [],
   "source": []
  },
  {
   "cell_type": "code",
   "execution_count": null,
   "metadata": {
    "collapsed": true
   },
   "outputs": [],
   "source": []
  },
  {
   "cell_type": "code",
   "execution_count": null,
   "metadata": {
    "collapsed": true
   },
   "outputs": [],
   "source": []
  },
  {
   "cell_type": "code",
   "execution_count": null,
   "metadata": {
    "collapsed": true
   },
   "outputs": [],
   "source": []
  },
  {
   "cell_type": "code",
   "execution_count": null,
   "metadata": {
    "collapsed": true
   },
   "outputs": [],
   "source": []
  },
  {
   "cell_type": "code",
   "execution_count": null,
   "metadata": {
    "collapsed": true
   },
   "outputs": [],
   "source": []
  },
  {
   "cell_type": "code",
   "execution_count": null,
   "metadata": {
    "collapsed": true
   },
   "outputs": [],
   "source": []
  },
  {
   "cell_type": "code",
   "execution_count": null,
   "metadata": {
    "collapsed": true
   },
   "outputs": [],
   "source": []
  },
  {
   "cell_type": "code",
   "execution_count": null,
   "metadata": {
    "collapsed": true
   },
   "outputs": [],
   "source": []
  },
  {
   "cell_type": "code",
   "execution_count": null,
   "metadata": {
    "collapsed": true
   },
   "outputs": [],
   "source": []
  }
 ],
 "metadata": {
  "kernelspec": {
   "display_name": "Python 3",
   "language": "python",
   "name": "python3"
  },
  "language_info": {
   "codemirror_mode": {
    "name": "ipython",
    "version": 3
   },
   "file_extension": ".py",
   "mimetype": "text/x-python",
   "name": "python",
   "nbconvert_exporter": "python",
   "pygments_lexer": "ipython3",
   "version": "3.4.3"
  },
  "latex_envs": {
   "bibliofile": "biblio.bib",
   "cite_by": "apalike",
   "current_citInitial": 1,
   "eqLabelWithNumbers": true,
   "eqNumInitial": 0
  },
  "toc": {
   "toc_cell": true,
   "toc_number_sections": false,
   "toc_threshold": "2",
   "toc_window_display": false
  }
 },
 "nbformat": 4,
 "nbformat_minor": 0
}
